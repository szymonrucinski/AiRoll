{
 "metadata": {
  "language_info": {
   "codemirror_mode": {
    "name": "ipython",
    "version": 3
   },
   "file_extension": ".py",
   "mimetype": "text/x-python",
   "name": "python",
   "nbconvert_exporter": "python",
   "pygments_lexer": "ipython3",
   "version": "3.8.5-final"
  },
  "orig_nbformat": 2,
  "kernelspec": {
   "name": "python3",
   "display_name": "Python 3"
  }
 },
 "nbformat": 4,
 "nbformat_minor": 2,
 "cells": [
  {
   "cell_type": "code",
   "execution_count": 16,
   "metadata": {},
   "outputs": [],
   "source": [
    "import fastbook\n",
    "import os\n",
    "from key import key\n",
    "fastbook.setup_book()"
   ]
  },
  {
   "cell_type": "code",
   "execution_count": 103,
   "metadata": {},
   "outputs": [],
   "source": [
    "import os\n",
    "from fastai.vision.all import *\n",
    "from fastai.vision.widgets import *\n",
    "# from fastai.vision.widgets import *\n",
    "from azure.cognitiveservices.search.imagesearch import ImageSearchClient as api"
   ]
  },
  {
   "cell_type": "code",
   "execution_count": 118,
   "metadata": {},
   "outputs": [
    {
     "output_type": "execute_result",
     "data": {
      "text/plain": [
       "(#9) [Path('D:/Programowanie/AI/shot_classifier/DATA_SET/extreme_wide_shot/extreme_wide_shot_desert.csv'),Path('D:/Programowanie/AI/shot_classifier/DATA_SET/extreme_wide_shot/extreme_wide_shot_forest.txt'),Path('D:/Programowanie/AI/shot_classifier/DATA_SET/extreme_wide_shot/extreme_wide_shot_images'),Path('D:/Programowanie/AI/shot_classifier/DATA_SET/extreme_wide_shot/extreme_wide_shot_mountains.txt'),Path('D:/Programowanie/AI/shot_classifier/DATA_SET/extreme_wide_shot/extreme_wide_shot_movies.txt'),Path('D:/Programowanie/AI/shot_classifier/DATA_SET/extreme_wide_shot/extreme_wide_shot_ocean.txt'),Path('D:/Programowanie/AI/shot_classifier/DATA_SET/extreme_wide_shot/extreme_wide_shot_sea.txt'),Path('D:/Programowanie/AI/shot_classifier/DATA_SET/extreme_wide_shot/extreme_wide_shot_urban.txt'),Path('D:/Programowanie/AI/shot_classifier/DATA_SET/extreme_wide_shot/extreme_wide_shot_village.txt')]"
      ]
     },
     "metadata": {},
     "execution_count": 118
    }
   ],
   "source": [
    "img_count = 160\n",
    "path = Path('D:\\Programowanie\\AI\\shot_classifier\\DATA_SET\\extreme_wide_shot')\n",
    "path.ls()"
   ]
  },
  {
   "cell_type": "code",
   "execution_count": 18,
   "metadata": {},
   "outputs": [
    {
     "output_type": "error",
     "ename": "AttributeError",
     "evalue": "'str' object has no attribute 'py'",
     "traceback": [
      "\u001b[1;31m---------------------------------------------------------------------------\u001b[0m",
      "\u001b[1;31mAttributeError\u001b[0m                            Traceback (most recent call last)",
      "\u001b[1;32m<ipython-input-18-122d6df51241>\u001b[0m in \u001b[0;36m<module>\u001b[1;34m\u001b[0m\n\u001b[0;32m      1\u001b[0m \u001b[0mclasses\u001b[0m \u001b[1;33m=\u001b[0m \u001b[1;33m[\u001b[0m\u001b[1;34m'extreme_wide_shot'\u001b[0m\u001b[1;33m,\u001b[0m \u001b[1;34m'wide_shot'\u001b[0m\u001b[1;33m]\u001b[0m\u001b[1;33m\u001b[0m\u001b[1;33m\u001b[0m\u001b[0m\n\u001b[1;32m----> 2\u001b[1;33m \u001b[0mprint\u001b[0m\u001b[1;33m(\u001b[0m\u001b[0mkey\u001b[0m\u001b[1;33m.\u001b[0m\u001b[0mpy\u001b[0m\u001b[1;33m)\u001b[0m\u001b[1;33m\u001b[0m\u001b[1;33m\u001b[0m\u001b[0m\n\u001b[0m",
      "\u001b[1;31mAttributeError\u001b[0m: 'str' object has no attribute 'py'"
     ]
    }
   ],
   "source": [
    "classes = ['extreme_wide_shot', 'wide_shot']\n",
    "print(key)"
   ]
  },
  {
   "cell_type": "code",
   "execution_count": 6,
   "metadata": {},
   "outputs": [
    {
     "output_type": "error",
     "ename": "NameError",
     "evalue": "name 'key' is not defined",
     "traceback": [
      "\u001b[1;31m---------------------------------------------------------------------------\u001b[0m",
      "\u001b[1;31mNameError\u001b[0m                                 Traceback (most recent call last)",
      "\u001b[1;32m<ipython-input-6-3e6a9f6af8cc>\u001b[0m in \u001b[0;36m<module>\u001b[1;34m\u001b[0m\n\u001b[1;32m----> 1\u001b[1;33m \u001b[0mprint\u001b[0m\u001b[1;33m(\u001b[0m\u001b[0mkey\u001b[0m\u001b[1;33m)\u001b[0m\u001b[1;33m\u001b[0m\u001b[1;33m\u001b[0m\u001b[0m\n\u001b[0m",
      "\u001b[1;31mNameError\u001b[0m: name 'key' is not defined"
     ]
    }
   ],
   "source": [
    "print(key)"
   ]
  },
  {
   "cell_type": "code",
   "execution_count": 85,
   "metadata": {},
   "outputs": [
    {
     "output_type": "execute_result",
     "data": {
      "text/plain": [
       "'2.1.8'"
      ]
     },
     "metadata": {},
     "execution_count": 85
    }
   ],
   "source": [
    "fastai.__version__"
   ]
  },
  {
   "cell_type": "code",
   "execution_count": 131,
   "metadata": {
    "tags": [
     "outputPrepend"
    ]
   },
   "outputs": [
    {
     "output_type": "stream",
     "name": "stdout",
     "text": [
      "kyline_skyline_asia_metropolis_landscape_urban-595219.jpg!d', 'https://pixnio.com/free-images/2017/09/29/2017-09-29-09-49-14.jpg', 'https://get.pxhere.com/photo/london-gardens-uk-urban-area-neighbourhood-town-residential-area-roof-human-settlement-city-building-architecture-sky-suburb-metropolitan-area-house-village-cityscape-vacation-street-cloud-landscape-home-window-urban-design-road-apartment-tourism-1593955.jpg', 'https://i0.hippopx.com/photos/112/374/390/urban-landscape-nanjing-purple-peak-tower-preview.jpg', 'https://cdn.pixabay.com/photo/2016/08/13/10/56/landscapes-1590505_960_720.jpg', 'https://get.pxhere.com/photo/pedestrian-road-street-night-town-alley-city-cityscape-downtown-evening-plaza-lane-infrastructure-town-square-metropolis-neighbourhood-urban-area-human-settlement-metropolitan-area-nonbuilding-structure-52188.jpg', 'https://get.pxhere.com/photo/landscape-architecture-skyline-night-city-skyscraper-urban-cityscape-downtown-travel-dusk-evening-tower-dubai-landmark-modern-long-exposure-emirates-metropolis-urban-area-human-settlement-atmosphere-of-earth-metropolitan-area-1031655.jpg', 'https://pixnio.com/free-images/2017/10/27/2017-10-27-06-12-06.jpg', 'https://cdn.pixabay.com/photo/2015/01/04/13/55/shanghai-588283_640.jpg', 'https://www.maxpixel.net/static/photo/1x/Urban-Landscape-Architecture-Church-City-Travel-3291614.jpg', 'https://i0.hippopx.com/photos/972/485/179/lyon-city-france-urban-landscape-preview.jpg', 'https://www.publicdomainpictures.net/pictures/240000/velka/paysage-urbain.jpg', 'https://get.pxhere.com/photo/night-palace-dusk-evening-reflection-landmark-temple-chinese-architecture-urban-landscape-chung-cheng-age-reading-hall-taipei-taiwan-free-place-airport-1379222.jpg', 'https://get.pxhere.com/photo/landscape-horizon-sky-sunset-skyline-morning-dawn-city-skyscraper-urban-river-cityscape-downtown-dusk-evening-haze-tourism-australia-swan-western-metropolis-perth-western-australia-city-of-perth-geographical-feature-atmospheric-phenomenon-human-settlement-atmosphere-of-earth-617918.jpg', 'https://c.pxhere.com/photos/5c/8f/long_beach_california_urban_landscape_sunset_architecture_skyline_city_cityscape-1020616.jpg!d', 'https://cdn.pixabay.com/photo/2016/03/28/09/39/architecture-1285187_960_720.jpg', 'https://c.pxhere.com/photos/54/71/euskadi_buildings_river_road_people_north_spain_city-941310.jpg!d', 'https://cdn.pixabay.com/photo/2015/03/20/11/56/new-682118_960_720.jpg', 'https://cdn.pixabay.com/photo/2016/01/06/00/15/city-1123363_960_720.jpg', 'https://get.pxhere.com/photo/person-snow-cold-winter-black-and-white-architecture-road-white-street-car-building-alley-city-cityscape-asian-store-weather-black-monochrome-lane-season-flake-washington-trees-united-states-temple-infrastructure-snapshot-wallpaper-blizzard-chinatown-snowflakes-freezing-urban-landscape-black-and-white-photo-snow-storm-monochrome-photography-snowzilla-single-male-january-2016-chinese-restaurant-atmospheric-phenomenon-winter-storm-655975.jpg', 'https://www.maxpixel.net/static/photo/1x/Blois-Tourism-Urban-Landscape-City-Outside-3234495.jpg', 'https://cdn.pixabay.com/photo/2017/06/18/14/33/city-2415957_960_720.jpg', 'https://get.pxhere.com/photo/landscape-sea-water-horizon-cloud-architecture-sky-sun-sunrise-sunset-bridge-skyline-night-sunlight-morning-building-old-dawn-city-urban-river-cityscape-panorama-summer-travel-dusk-panoramic-europe-evening-reflection-darkness-waterway-poland-afterglow-wroc-aw-618080.jpg', 'https://cdn.pixabay.com/photo/2013/08/28/00/26/girona-176586_960_720.jpg', 'https://cdn.pixabay.com/photo/2017/03/16/00/22/edinburgh-2147875_960_720.jpg', 'https://c.pxhere.com/photos/3f/f5/urban_landscape_lithuania_vilnius_eastern_europe-551335.jpg!d', \"https://get.pxhere.com/photo/landscape-field-farm-lawn-journey-agriculture-garden-tourism-stadium-amphitheatre-plantation-botanical-garden-estate-bird's-eye-view-paddy-field-urban-design-landscape-design-residential-area-sport-venue-outdoor-structure-landscape-architect-tropical-park-nong-nuch-thailand-922209.jpg\", 'https://live.staticflickr.com/5471/9733068773_2c17fec32e.jpg', 'https://c.pxhere.com/photos/c5/89/spring_flowers_grove_park_resting-1355766.jpg!d', 'https://www.goodfreephotos.com/cache/czech-republic/prague/cityscape-and-rooftops-and-urban-landscape-in-prague-czech-republic.jpg', 'https://p0.pxfuel.com/preview/201/127/801/montreal-canada-urban-landscape-buildings.jpg', 'https://cdn.pixabay.com/photo/2017/06/26/15/24/boston-2444064_960_720.jpg', 'https://c.pxhere.com/photos/29/75/landscape_cityscape_house_city_sky_town_urban_architecture-604027.jpg!d', 'https://c.pxhere.com/photos/ca/da/landscape_fountain_cascade_urban_setting_lawn_green_water-1237759.jpg!d', 'https://c.pxhere.com/photos/87/db/park_rendering_visualization_architecture_visualization_3d_architectural_visualization_landscape_building-1059763.jpg!d', 'https://www.maxpixel.net/static/photo/640/Panorama-Urban-Landscape-City-Panoramic-Image-3248381.jpg', 'https://cdn.pixabay.com/photo/2018/02/28/01/26/skyscraper-3187037_960_720.jpg', 'https://get.pxhere.com/photo/landscape-black-and-white-street-photography-city-canal-cityscape-reflection-canon-station-monochrome-waterway-eosm-netherlands-leiden-leyde-urban-area-monochrome-photography-98662.jpg', 'https://c4.wallpaperflare.com/wallpaper/251/60/1007/urban-landscape-cologne-germany-sunset-sky-the-rhine-bridge-buildings-wallpaper-thumb.jpg', 'https://get.pxhere.com/photo/landscape-nature-outdoor-technology-track-railway-field-sunlight-morning-perspective-moody-urban-transportation-transport-evening-construction-vehicle-weather-darkness-nowhere-gravel-scene-rail-transport-rail-tracks-atmospheric-phenomenon-777769.jpg', 'https://get.pxhere.com/photo/landscape-architecture-people-perspective-travel-plaza-park-tourism-modern-urban-art-sculpture-capital-mexico-culture-mexican-cities-modern-art-urban-landscape-expose-outdoor-structure-alameda-central-1385509.jpg', \"https://get.pxhere.com/photo/town-square-park-metropolitan-area-urban-design-residential-area-aerial-photography-bird's-eye-view-urban-area-suburb-city-human-settlement-neighbourhood-landscape-mixed-use-architecture-photography-building-land-lot-campus-1584869.jpg\", 'https://pixnio.com/free-images/2017/12/13/2017-12-13-10-24-53.jpg', 'https://get.pxhere.com/photo/landscape-horizon-winter-light-sky-sunset-skyline-night-dawn-city-paris-cityscape-panorama-downtown-dusk-evening-reflection-defence-urban-area-suresnes-human-settlement-atmosphere-of-earth-1127760.jpg', 'https://get.pxhere.com/photo/landscape-tree-water-architecture-bridge-flower-city-urban-river-canal-cityscape-pond-reflection-landmark-reservoir-garden-tourism-waterway-body-of-water-trees-outside-hdr-buildings-reflections-germany-estate-bridges-cities-aerial-photography-w-rzburg-reflecting-pool-1125317.jpg', 'https://cdn.pixabay.com/photo/2015/03/18/03/08/the-urban-landscape-678676_960_720.jpg', 'https://c.pxhere.com/photos/bd/9b/defence_paris_architecture_urban_landscape-1323151.jpg!d', 'https://www.maxpixel.net/static/photo/640/Panoramic-Skyline-Urban-Landscape-Skyscraper-City-3119377.jpg', 'https://get.pxhere.com/photo/city-traffic-bus-public-transport-road-green-trees-palm-landscape-cars-people-urban-urban-landscape-south-mediterranean-transport-town-tree-woody-plant-street-urban-area-neighbourhood-mode-of-transport-car-plant-arecales-palm-tree-vehicle-downtown-metropolitan-area-lane-sky-cable-car-metropolis-compact-car-1426325.jpg', 'https://i0.hippopx.com/photos/400/942/476/landscape-buildings-mount-urban-landscape-preview.jpg', \"https://get.pxhere.com/photo/aerial-shot-aerial-view-architecture-bird's-eye-view-colors-daylight-drone-footage-drone-view-environment-grass-green-growth-landscape-modern-nature-outdoors-park-road-scenic-trees-urban-woods-1476091.jpg\", 'https://get.pxhere.com/photo/grass-road-street-sidewalk-flower-cobblestone-parking-city-urban-suburb-park-lane-aerial-view-trees-streets-cars-roads-neighbourhood-urban-area-residential-area-1087309.jpg', 'https://www.maxpixel.net/static/photo/640/Architecture-City-Panoramic-Travel-Urban-Landscape-3069125.jpg', 'https://get.pxhere.com/photo/landscape-tree-nature-path-pathway-grass-outdoor-sky-lawn-sidewalk-flower-stone-walkway-summer-daytime-walk-environment-spring-green-tranquil-peaceful-natural-park-backyard-property-garden-perennial-plants-flowers-relaxing-landscaping-relaxation-courtyard-design-gardening-shrub-beauty-scene-grounds-botanical-garden-estate-footpath-yard-parkland-nobody-real-estate-landscaped-residential-area-landscape-architect-garden-designer-755134.jpg', 'https://cdn.pixabay.com/photo/2015/08/15/20/31/nyc-890089_960_720.jpg', 'https://get.pxhere.com/photo/light-road-traffic-street-night-city-cityscape-downtown-dusk-evening-darkness-nightlife-street-light-lane-lighting-infrastructure-night-view-night-landscape-urban-area-night-of-korea-757330.jpg', 'https://pixnio.com/free-images/2017/08/25/2017-08-25-09-30-48.jpg', 'https://pixnio.com/free-images/2017/02/23/2017-02-23-06-32-36-900x600.jpg', 'https://get.pxhere.com/photo/landscape-water-bridge-skyline-night-city-skyscraper-urban-cityscape-panorama-downtown-reflection-landmark-illuminated-england-london-lights-buildings-metropolis-thames-river-geographical-feature-human-settlement-metropolitan-area-620212.jpg', 'https://get.pxhere.com/photo/landscape-sea-water-horizon-architecture-sky-skyline-building-city-skyscraper-urban-cityscape-panorama-downtown-travel-tower-bay-asia-landmark-exterior-business-waterfront-tourism-modern-tower-block-district-singapore-financial-metropolis-urban-area-geographical-feature-human-settlement-metropolitan-area-510335.jpg', 'https://get.pxhere.com/photo/architecture-sky-city-urban-line-vehicle-mast-industrial-machine-electricity-cranes-crane-heavy-equipment-urban-landscape-construction-equipment-building-construction-overhead-power-line-1247011.jpg', 'https://pixnio.com/free-images/2019/03/17/2019-03-17-13-55-48-1200x900.jpg', 'https://c.pxhere.com/photos/c7/26/barcelona_plaza_espa_a_mo_montjuic_views_square_spain_barcelona_urban_landscape-1068194.jpg!d', 'https://pixnio.com/free-images/2019/01/14/2019-01-14-07-29-45.jpg', 'https://cdn.pixabay.com/photo/2018/04/24/04/40/city-3346280__180.jpg', 'https://get.pxhere.com/photo/water-bridge-flower-river-canal-walkway-transport-reflection-waterway-body-of-water-channel-ditch-moat-landform-geographical-feature-57915.jpg', 'https://c.pxhere.com/photos/b6/df/japan_tokyo_building_city_architecture_urban_capital_urban_landscape-617459.jpg!d', 'https://images.pexels.com/photos/15437/pexels-photo.jpg?cs=srgb&dl=pragathinagar-telangana-urban-landscape-cheruvu-15437.jpg&fm=jpg', 'https://get.pxhere.com/photo/pedestrian-walking-people-road-street-night-city-cityscape-downtown-evening-italy-lane-infrastructure-torino-neighbourhood-pedestrian-zone-turin-urban-area-human-settlement-nonbuilding-structure-royalty-free-images-pedestrian-precinct-1109818.jpg', 'https://get.pxhere.com/photo/landscape-tree-horizon-cloud-sky-skyline-building-city-skyscraper-monument-cityscape-downtown-daytime-statue-landmark-tourism-barcelona-tower-block-tourist-attraction-views-metropolis-urban-landscape-plaza-espana-meteorological-phenomenon-urban-area-metropolitan-area-757841.jpg', 'https://c.pxhere.com/photos/21/8a/naples_landscape_city_urban_landscape_architecture_waterfront_night_lights-820731.jpg!d', 'https://c.pxhere.com/photos/b8/e5/industry_industrial_landscape_seemed_factory_building_factory_industrial_plant_paper_mill_mannheim-598412.jpg!d', 'https://libreshot.com/wp-content/uploads/2017/03/prague-city-landscape.jpg', 'https://images.pexels.com/photos/791206/pexels-photo-791206.jpeg?cs=srgb&dl=city-traffic-landscape-791206.jpg&fm=jpg', 'https://images.pexels.com/photos/185797/pexels-photo-185797.jpeg?cs=srgb&dl=city-lights-night-185797.jpg&fm=jpg', 'https://cdn.pixabay.com/photo/2015/01/30/15/02/urban-landscape-617590_960_720.jpg', 'https://static.pexels.com/photos/76392/london-black-white-landscape-urban-76392-landscape.jpeg', 'https://c.pxhere.com/photos/47/5d/urban_moon_city_skyline_landscape_cityscape_moonlight_city_at_night-550764.jpg!d', 'https://images.pexels.com/photos/414675/pexels-photo-414675.jpeg?cs=srgb&dl=city-landscape-lights-414675.jpg&fm=jpg', 'https://c.pxhere.com/images/0b/c6/0dc84dc5e86141c109e4dd9ab6d9-1594017.jpg!d', 'https://pixnio.com/free-images/2017/04/30/2017-04-30-09-45-44.jpg', 'https://get.pxhere.com/photo/tree-pedestrian-road-street-sidewalk-town-building-alley-city-downtown-plaza-lane-trees-infrastructure-town-square-nice-neighbourhood-c-te-d-azur-city-centre-urban-area-residential-area-human-settlement-1028186.jpg', 'https://cdn.pixabay.com/photo/2015/10/09/14/47/defence-979373_960_720.jpg', 'https://c.pxhere.com/photos/25/16/art_ball_brisbane_tourism_city_travel_queensland_urban-778017.jpg!d', 'https://get.pxhere.com/photo/tree-nature-grass-horizon-architecture-skyline-lawn-meadow-hill-flower-city-urban-cityscape-park-trees-outside-skyscrapers-buildings-china-cities-residential-area-human-settlement-haikou-1134508.jpg', 'https://pixnio.com/free-images/2017/10/27/2017-10-27-06-43-13.jpg', 'https://www.goodfreephotos.com/albums/other-landscapes/river-wilderness-landscape.jpg', 'https://cdn.pixabay.com/photo/2014/09/02/20/50/skyscraper-433844_960_720.jpg', 'https://c.pxhere.com/photos/bc/80/dallas_skyline_downtown_cityscape_urban_skyscrapers_tower_architecture-1328413.jpg!d', 'https://static.pexels.com/photos/240572/pexels-photo-240572.jpeg', 'https://images.pexels.com/photos/242133/pexels-photo-242133.jpeg?cs=srgb&dl=city-landscape-sky-242133.jpg&fm=jpg', 'https://i0.hippopx.com/photos/233/29/115/cars-lights-night-city-thumb.jpg', 'https://c.pxhere.com/photos/d9/f7/singapore_city_urban_night_lights_complex_buildings_worker_amazing-1272358.jpg!d', \"https://get.pxhere.com/photo/aerial-photography-urban-area-suburb-metropolitan-area-city-bird's-eye-view-residential-area-sky-photography-cityscape-daytime-neighbourhood-urban-design-landscape-land-lot-metropolis-tree-house-1546315.jpg\", 'https://images.pexels.com/photos/533930/pexels-photo-533930.jpeg?cs=srgb&dl=architecture-buildings-city-533930.jpg&fm=jpg', 'https://p0.piqsels.com/preview/237/843/689/bay-dam-landscape-mountain.jpg', 'https://get.pxhere.com/photo/pedestrian-road-traffic-street-car-night-town-city-urban-cityscape-downtown-evening-vehicle-plaza-street-light-speed-lighting-lights-infrastructure-light-fixture-town-square-long-exposition-metropolis-neighbourhood-urban-landscape-signals-urban-area-residential-area-human-settlement-metropolitan-area-488023.jpg', 'https://c4.wallpaperflare.com/wallpaper/425/984/21/urban-landscape-skyscraper-architecture-wallpaper-preview.jpg', 'https://images.pexels.com/photos/678826/pexels-photo-678826.jpeg?cs=srgb&dl=dog-farm-animal-farm-dog-678826.jpg&fm=jpg', 'https://live.staticflickr.com/5494/9299549544_00a64745ed_n.jpg', 'https://cdn.pixabay.com/photo/2015/04/20/13/25/city-731296_960_720.jpg', \"https://get.pxhere.com/photo/landscape-nature-outdoor-horizon-sky-field-countryside-hill-town-atmosphere-valley-land-summer-travel-village-environment-rural-green-distance-tranquil-journey-asia-ancient-chapel-agriculture-terrain-season-plain-surface-ecology-height-above-sunny-hills-medieval-clouds-fields-expedition-earth-buildings-urbanization-mountains-ruins-vegetation-plateau-day-india-historical-temples-indian-ecosystem-distant-cultivated-east-rural-area-good-weather-sights-bird's-eye-view-archaeological-site-aerial-photography-high-view-fine-weather-cultured-expanse-without-people-geographical-feature-east-india-764852.jpg\", 'https://s3.amazonaws.com/freestock-prod/450/freestock_35108353.jpg', 'https://get.pxhere.com/photo/pedestrian-architecture-skyline-building-city-paris-skyscraper-cityscape-downtown-plaza-landmark-facade-stadium-tower-block-public-transport-arena-infrastructure-town-square-metropolis-defence-urban-landscape-shopping-mall-urban-area-human-settlement-metropolitan-area-1323151.jpg', 'https://get.pxhere.com/photo/architecture-blue-bricks-building-daylight-design-door-entrance-estate-exterior-front-garden-home-exterior-house-landscape-mansion-outdoor-outdoors-plants-property-residence-residential-river-roof-style-urban-windows-1503685.jpg', 'https://p0.pikist.com/photos/871/324/shanghai-the-bund-urban-landscape-bokeh-thumbnail.jpg', 'https://www.maxpixels.net/static/photo/640/View-Dubai-Skyscraper-Urban-Landscape-City-945802.jpg', 'https://cdn.pixabay.com/photo/2014/10/27/10/12/shanghai-504883__180.jpg', 'https://www.maxpixels.net/static/photo/1x/Taipei-Taiwan-Reflection-Urban-Landscape-2115887.jpg', 'https://cdn.pixabay.com/photo/2018/03/15/21/45/city-3229614_960_720.jpg', 'https://pixnio.com/free-images/2017/10/25/2017-10-25-14-46-42-1100x727.jpg', 'https://get.pxhere.com/photo/metropolitan-area-skyscraper-city-urban-area-sky-daytime-cityscape-metropolis-skyline-tower-block-human-settlement-landmark-cloud-atmospheric-phenomenon-building-architecture-downtown-tower-atmosphere-photography-urban-design-horizon-world-landscape-condominium-corporate-headquarters-mixed-use-meteorological-phenomenon-mountain-1561125.jpg', 'https://cdn.pixabay.com/photo/2015/11/06/15/33/urban-landscape-1028974_640.jpg', 'https://c.pxhere.com/photos/0f/56/landscape_buildings_architecture_docklands_urban_city_cityscape_sky-725330.jpg!d', 'https://images.pexels.com/photos/409127/pexels-photo-409127.jpeg?cs=srgb&dl=city-landscape-mountains-409127.jpg&fm=jpg', 'https://c.pxhere.com/photos/ff/79/drone_village_aerial_land_house_landscape_town_exterior_home-603627.jpg!d', 'https://i0.hippopx.com/photos/639/857/173/city-urban-landscape-mirroring-architecture-preview.jpg', 'https://i1.pickpik.com/photos/666/262/426/urban-landscape-tokyo-building-preview.jpg', 'https://www.maxpixel.net/static/photo/640/Urban-Area-City-Panoramic-Travel-Horizon-Cityscape-3173878.jpg', 'https://www.maxpixel.net/static/photo/640/City-Travel-Panorama-Urban-Landscape-Home-3176743.jpg', 'https://p0.pikist.com/photos/539/293/travel-city-body-of-water-modern-architecture-sky-urban-landscape-urban-space-panoramic-thumbnail.jpg', \"https://get.pxhere.com/photo/landscape-architecture-skyline-photography-town-city-skyscraper-cityscape-panorama-downtown-suburb-europe-landmark-italy-tuscany-tourism-rooftops-florence-italian-metropolis-firenze-neighbourhood-bird's-eye-view-aerial-photography-urban-area-residential-area-geographical-feature-human-settlement-metropolitan-area-1223282.jpg\", 'https://www.goodfreephotos.com/albums/czech-republic/prague/cityscape-and-rooftops-and-urban-landscape-in-prague-czech-republic.jpg', 'https://get.pxhere.com/photo/landscape-tree-water-nature-forest-grass-architecture-bridge-lawn-meadow-flower-urban-river-land-country-summer-pond-environment-rural-spring-green-scenic-natural-autumn-park-scenery-backyard-garden-tourism-season-waterway-outdoors-sunny-day-scene-estate-woodland-yard-623885.jpg', 'https://c.pxhere.com/photos/75/f3/singapore_skyline_city_cityscape_urban_architecture_bay_asia-510335.jpg!d', 'https://c0.wallpaperflare.com/preview/622/164/1012/mexico-urban-landscape-landscape-colorful.jpg', 'https://cdn.pixabay.com/photo/2018/02/28/01/26/skyscraper-3187037_640.jpg', 'https://cdn.pixabay.com/photo/2017/08/21/04/45/cityscape-2664066_960_720.jpg', 'https://pixnio.com/free-images/2018/08/09/2018-08-09-17-33-16.jpg', 'https://c4.wallpaperflare.com/wallpaper/533/748/999/landscape-street-urban-havana-wallpaper-preview.jpg', 'https://pixnio.com/free-images/2017/10/17/2017-10-17-06-10-51.jpg', 'https://cdn.pixabay.com/photo/2015/04/20/13/43/urban-731498_640.jpg', 'https://www.maxpixel.net/static/photo/640/Urban-Landscape-City-Waters-Travel-Architecture-3119882.jpg', 'https://get.pxhere.com/photo/town-building-city-asian-chinese-boston-world-heritage-united-states-district-temple-shrine-china-chinatown-urban-landscape-traditional-architecture-shinto-shrine-1401786.jpg', 'https://pixnio.com/free-images/2017/04/30/2017-04-30-09-45-44-900x505.jpg']\n"
     ]
    }
   ],
   "source": [
    "subscription_key = key\n",
    "search_url = \"https://api.bing.microsoft.com/v7.0/images/search\"\n",
    "headers = {\"Ocp-Apim-Subscription-Key\" : subscription_key}\n",
    "\n",
    "search_term = {'extreme_wide_shot':['forest','desert','ocean','mountains', 'urban landscape', 'village landscape','extreme long shot Example movie'], \n",
    "'full_shot':['full length shot','Full Shot Film, Full Shot', 'Full Shot Camera Angle','Full Body Side Shot','Full Body Portrait'],\n",
    "'medium_shot':['medium shot', 'medium shot photography', 'medium shot portrait', 'medium shot film', 'Medium Mid Shot', 'Example of Medium Shot']\n",
    "}\n",
    "\n",
    "params  = {\"q\": search_term['extreme_wide_shot'][4], \"license\": \"public\", \"imageType\": \"photo\", \"count\":f\"{img_count}\"}\n",
    "\n",
    "response = requests.get(search_url, headers=headers, params=params)\n",
    "response.raise_for_status()\n",
    "search_results = response.json()\n",
    "\n",
    "img_urls = [img['contentUrl'] for img in search_results[\"value\"]]\n",
    "print(img_urls)"
   ]
  },
  {
   "cell_type": "code",
   "execution_count": 125,
   "metadata": {},
   "outputs": [
    {
     "output_type": "display_data",
     "data": {
      "text/plain": "<IPython.core.display.HTML object>",
      "text/html": "\n    <div>\n        <style>\n            /* Turns off some styling */\n            progress {\n                /* gets rid of default border in Firefox and Opera. */\n                border: none;\n                /* Needs to be in here for Safari polyfill so background images work as expected. */\n                background-size: auto;\n            }\n            .progress-bar-interrupted, .progress-bar-interrupted::-webkit-progress-bar {\n                background: #F44336;\n            }\n        </style>\n      <progress value='0' class='' max='3382533' style='width:300px; height:20px; vertical-align: middle;'></progress>\n      \n    </div>\n    "
     },
     "metadata": {}
    }
   ],
   "source": [
    "dest = 'D:\\\\Programowanie\\\\AI\\\\shot_classifier\\\\DATA_SET\\\\extreme_wide_shot\\\\extreme_wide_shot_images\\\\test.jpg'\n",
    "download_url(img_urls[4], dest)"
   ]
  },
  {
   "cell_type": "code",
   "execution_count": 128,
   "metadata": {},
   "outputs": [
    {
     "output_type": "display_data",
     "data": {
      "text/plain": "<IPython.core.display.HTML object>",
      "text/html": "\n    <div>\n        <style>\n            /* Turns off some styling */\n            progress {\n                /* gets rid of default border in Firefox and Opera. */\n                border: none;\n                /* Needs to be in here for Safari polyfill so background images work as expected. */\n                background-size: auto;\n            }\n            .progress-bar-interrupted, .progress-bar-interrupted::-webkit-progress-bar {\n                background: #F44336;\n            }\n        </style>\n      <progress value='0' class='' max='96' style='width:300px; height:20px; vertical-align: middle;'></progress>\n      \n    </div>\n    "
     },
     "metadata": {}
    },
    {
     "output_type": "error",
     "ename": "BrokenProcessPool",
     "evalue": "A process in the process pool was terminated abruptly while the future was running or pending.",
     "traceback": [
      "\u001b[1;31m---------------------------------------------------------------------------\u001b[0m",
      "\u001b[1;31mBrokenProcessPool\u001b[0m                         Traceback (most recent call last)",
      "\u001b[1;32m<ipython-input-128-149c196ddc22>\u001b[0m in \u001b[0;36m<module>\u001b[1;34m\u001b[0m\n\u001b[0;32m      1\u001b[0m \u001b[1;32mfor\u001b[0m \u001b[0mfolder\u001b[0m \u001b[1;32min\u001b[0m \u001b[1;33m(\u001b[0m\u001b[1;34m'wide_shot_images'\u001b[0m\u001b[1;33m)\u001b[0m\u001b[1;33m:\u001b[0m\u001b[1;33m\u001b[0m\u001b[1;33m\u001b[0m\u001b[0m\n\u001b[1;32m----> 2\u001b[1;33m     \u001b[0mverify_images\u001b[0m\u001b[1;33m(\u001b[0m\u001b[0mdest\u001b[0m\u001b[1;33m)\u001b[0m\u001b[1;33m\u001b[0m\u001b[1;33m\u001b[0m\u001b[0m\n\u001b[0m",
      "\u001b[1;32m~\\anaconda3\\envs\\shot-classifier\\lib\\site-packages\\fastai\\vision\\utils.py\u001b[0m in \u001b[0;36mverify_images\u001b[1;34m(fns)\u001b[0m\n\u001b[0;32m     59\u001b[0m \u001b[1;32mdef\u001b[0m \u001b[0mverify_images\u001b[0m\u001b[1;33m(\u001b[0m\u001b[0mfns\u001b[0m\u001b[1;33m)\u001b[0m\u001b[1;33m:\u001b[0m\u001b[1;33m\u001b[0m\u001b[1;33m\u001b[0m\u001b[0m\n\u001b[0;32m     60\u001b[0m     \u001b[1;34m\"Find images in `fns` that can't be opened\"\u001b[0m\u001b[1;33m\u001b[0m\u001b[1;33m\u001b[0m\u001b[0m\n\u001b[1;32m---> 61\u001b[1;33m     \u001b[1;32mreturn\u001b[0m \u001b[0mL\u001b[0m\u001b[1;33m(\u001b[0m\u001b[0mfns\u001b[0m\u001b[1;33m[\u001b[0m\u001b[0mi\u001b[0m\u001b[1;33m]\u001b[0m \u001b[1;32mfor\u001b[0m \u001b[0mi\u001b[0m\u001b[1;33m,\u001b[0m\u001b[0mo\u001b[0m \u001b[1;32min\u001b[0m \u001b[0menumerate\u001b[0m\u001b[1;33m(\u001b[0m\u001b[0mparallel\u001b[0m\u001b[1;33m(\u001b[0m\u001b[0mverify_image\u001b[0m\u001b[1;33m,\u001b[0m \u001b[0mfns\u001b[0m\u001b[1;33m)\u001b[0m\u001b[1;33m)\u001b[0m \u001b[1;32mif\u001b[0m \u001b[1;32mnot\u001b[0m \u001b[0mo\u001b[0m\u001b[1;33m)\u001b[0m\u001b[1;33m\u001b[0m\u001b[1;33m\u001b[0m\u001b[0m\n\u001b[0m\u001b[0;32m     62\u001b[0m \u001b[1;33m\u001b[0m\u001b[0m\n\u001b[0;32m     63\u001b[0m \u001b[1;31m# Cell\u001b[0m\u001b[1;33m\u001b[0m\u001b[1;33m\u001b[0m\u001b[1;33m\u001b[0m\u001b[0m\n",
      "\u001b[1;32m~\\anaconda3\\envs\\shot-classifier\\lib\\site-packages\\fastcore\\parallel.py\u001b[0m in \u001b[0;36mparallel\u001b[1;34m(f, items, n_workers, total, progress, pause, threadpool, timeout, chunksize, *args, **kwargs)\u001b[0m\n\u001b[0;32m    105\u001b[0m             \u001b[1;32mif\u001b[0m \u001b[0mtotal\u001b[0m \u001b[1;32mis\u001b[0m \u001b[1;32mNone\u001b[0m\u001b[1;33m:\u001b[0m \u001b[0mtotal\u001b[0m \u001b[1;33m=\u001b[0m \u001b[0mlen\u001b[0m\u001b[1;33m(\u001b[0m\u001b[0mitems\u001b[0m\u001b[1;33m)\u001b[0m\u001b[1;33m\u001b[0m\u001b[1;33m\u001b[0m\u001b[0m\n\u001b[0;32m    106\u001b[0m             \u001b[0mr\u001b[0m \u001b[1;33m=\u001b[0m \u001b[0mprogress_bar\u001b[0m\u001b[1;33m(\u001b[0m\u001b[0mr\u001b[0m\u001b[1;33m,\u001b[0m \u001b[0mtotal\u001b[0m\u001b[1;33m=\u001b[0m\u001b[0mtotal\u001b[0m\u001b[1;33m,\u001b[0m \u001b[0mleave\u001b[0m\u001b[1;33m=\u001b[0m\u001b[1;32mFalse\u001b[0m\u001b[1;33m)\u001b[0m\u001b[1;33m\u001b[0m\u001b[1;33m\u001b[0m\u001b[0m\n\u001b[1;32m--> 107\u001b[1;33m         \u001b[1;32mreturn\u001b[0m \u001b[0mL\u001b[0m\u001b[1;33m(\u001b[0m\u001b[0mr\u001b[0m\u001b[1;33m)\u001b[0m\u001b[1;33m\u001b[0m\u001b[1;33m\u001b[0m\u001b[0m\n\u001b[0m\u001b[0;32m    108\u001b[0m \u001b[1;33m\u001b[0m\u001b[0m\n\u001b[0;32m    109\u001b[0m \u001b[1;31m# Cell\u001b[0m\u001b[1;33m\u001b[0m\u001b[1;33m\u001b[0m\u001b[1;33m\u001b[0m\u001b[0m\n",
      "\u001b[1;32m~\\anaconda3\\envs\\shot-classifier\\lib\\site-packages\\fastcore\\foundation.py\u001b[0m in \u001b[0;36m__call__\u001b[1;34m(cls, x, *args, **kwargs)\u001b[0m\n\u001b[0;32m    120\u001b[0m     \u001b[1;32mdef\u001b[0m \u001b[0m__call__\u001b[0m\u001b[1;33m(\u001b[0m\u001b[0mcls\u001b[0m\u001b[1;33m,\u001b[0m \u001b[0mx\u001b[0m\u001b[1;33m=\u001b[0m\u001b[1;32mNone\u001b[0m\u001b[1;33m,\u001b[0m \u001b[1;33m*\u001b[0m\u001b[0margs\u001b[0m\u001b[1;33m,\u001b[0m \u001b[1;33m**\u001b[0m\u001b[0mkwargs\u001b[0m\u001b[1;33m)\u001b[0m\u001b[1;33m:\u001b[0m\u001b[1;33m\u001b[0m\u001b[1;33m\u001b[0m\u001b[0m\n\u001b[0;32m    121\u001b[0m         \u001b[1;32mif\u001b[0m \u001b[1;32mnot\u001b[0m \u001b[0margs\u001b[0m \u001b[1;32mand\u001b[0m \u001b[1;32mnot\u001b[0m \u001b[0mkwargs\u001b[0m \u001b[1;32mand\u001b[0m \u001b[0mx\u001b[0m \u001b[1;32mis\u001b[0m \u001b[1;32mnot\u001b[0m \u001b[1;32mNone\u001b[0m \u001b[1;32mand\u001b[0m \u001b[0misinstance\u001b[0m\u001b[1;33m(\u001b[0m\u001b[0mx\u001b[0m\u001b[1;33m,\u001b[0m\u001b[0mcls\u001b[0m\u001b[1;33m)\u001b[0m\u001b[1;33m:\u001b[0m \u001b[1;32mreturn\u001b[0m \u001b[0mx\u001b[0m\u001b[1;33m\u001b[0m\u001b[1;33m\u001b[0m\u001b[0m\n\u001b[1;32m--> 122\u001b[1;33m         \u001b[1;32mreturn\u001b[0m \u001b[0msuper\u001b[0m\u001b[1;33m(\u001b[0m\u001b[1;33m)\u001b[0m\u001b[1;33m.\u001b[0m\u001b[0m__call__\u001b[0m\u001b[1;33m(\u001b[0m\u001b[0mx\u001b[0m\u001b[1;33m,\u001b[0m \u001b[1;33m*\u001b[0m\u001b[0margs\u001b[0m\u001b[1;33m,\u001b[0m \u001b[1;33m**\u001b[0m\u001b[0mkwargs\u001b[0m\u001b[1;33m)\u001b[0m\u001b[1;33m\u001b[0m\u001b[1;33m\u001b[0m\u001b[0m\n\u001b[0m\u001b[0;32m    123\u001b[0m \u001b[1;33m\u001b[0m\u001b[0m\n\u001b[0;32m    124\u001b[0m \u001b[1;31m# Cell\u001b[0m\u001b[1;33m\u001b[0m\u001b[1;33m\u001b[0m\u001b[1;33m\u001b[0m\u001b[0m\n",
      "\u001b[1;32m~\\anaconda3\\envs\\shot-classifier\\lib\\site-packages\\fastcore\\foundation.py\u001b[0m in \u001b[0;36m__init__\u001b[1;34m(self, items, use_list, match, *rest)\u001b[0m\n\u001b[0;32m    128\u001b[0m     \u001b[1;32mdef\u001b[0m \u001b[0m__init__\u001b[0m\u001b[1;33m(\u001b[0m\u001b[0mself\u001b[0m\u001b[1;33m,\u001b[0m \u001b[0mitems\u001b[0m\u001b[1;33m=\u001b[0m\u001b[1;32mNone\u001b[0m\u001b[1;33m,\u001b[0m \u001b[1;33m*\u001b[0m\u001b[0mrest\u001b[0m\u001b[1;33m,\u001b[0m \u001b[0muse_list\u001b[0m\u001b[1;33m=\u001b[0m\u001b[1;32mFalse\u001b[0m\u001b[1;33m,\u001b[0m \u001b[0mmatch\u001b[0m\u001b[1;33m=\u001b[0m\u001b[1;32mNone\u001b[0m\u001b[1;33m)\u001b[0m\u001b[1;33m:\u001b[0m\u001b[1;33m\u001b[0m\u001b[1;33m\u001b[0m\u001b[0m\n\u001b[0;32m    129\u001b[0m         \u001b[1;32mif\u001b[0m \u001b[1;33m(\u001b[0m\u001b[0muse_list\u001b[0m \u001b[1;32mis\u001b[0m \u001b[1;32mnot\u001b[0m \u001b[1;32mNone\u001b[0m\u001b[1;33m)\u001b[0m \u001b[1;32mor\u001b[0m \u001b[1;32mnot\u001b[0m \u001b[0mis_array\u001b[0m\u001b[1;33m(\u001b[0m\u001b[0mitems\u001b[0m\u001b[1;33m)\u001b[0m\u001b[1;33m:\u001b[0m\u001b[1;33m\u001b[0m\u001b[1;33m\u001b[0m\u001b[0m\n\u001b[1;32m--> 130\u001b[1;33m             \u001b[0mitems\u001b[0m \u001b[1;33m=\u001b[0m \u001b[0mlistify\u001b[0m\u001b[1;33m(\u001b[0m\u001b[0mitems\u001b[0m\u001b[1;33m,\u001b[0m \u001b[1;33m*\u001b[0m\u001b[0mrest\u001b[0m\u001b[1;33m,\u001b[0m \u001b[0muse_list\u001b[0m\u001b[1;33m=\u001b[0m\u001b[0muse_list\u001b[0m\u001b[1;33m,\u001b[0m \u001b[0mmatch\u001b[0m\u001b[1;33m=\u001b[0m\u001b[0mmatch\u001b[0m\u001b[1;33m)\u001b[0m\u001b[1;33m\u001b[0m\u001b[1;33m\u001b[0m\u001b[0m\n\u001b[0m\u001b[0;32m    131\u001b[0m         \u001b[0msuper\u001b[0m\u001b[1;33m(\u001b[0m\u001b[1;33m)\u001b[0m\u001b[1;33m.\u001b[0m\u001b[0m__init__\u001b[0m\u001b[1;33m(\u001b[0m\u001b[0mitems\u001b[0m\u001b[1;33m)\u001b[0m\u001b[1;33m\u001b[0m\u001b[1;33m\u001b[0m\u001b[0m\n\u001b[0;32m    132\u001b[0m \u001b[1;33m\u001b[0m\u001b[0m\n",
      "\u001b[1;32m~\\anaconda3\\envs\\shot-classifier\\lib\\site-packages\\fastcore\\basics.py\u001b[0m in \u001b[0;36mlistify\u001b[1;34m(o, use_list, match, *rest)\u001b[0m\n\u001b[0;32m     54\u001b[0m     \u001b[1;32melif\u001b[0m \u001b[0misinstance\u001b[0m\u001b[1;33m(\u001b[0m\u001b[0mo\u001b[0m\u001b[1;33m,\u001b[0m \u001b[0mlist\u001b[0m\u001b[1;33m)\u001b[0m\u001b[1;33m:\u001b[0m \u001b[0mres\u001b[0m \u001b[1;33m=\u001b[0m \u001b[0mo\u001b[0m\u001b[1;33m\u001b[0m\u001b[1;33m\u001b[0m\u001b[0m\n\u001b[0;32m     55\u001b[0m     \u001b[1;32melif\u001b[0m \u001b[0misinstance\u001b[0m\u001b[1;33m(\u001b[0m\u001b[0mo\u001b[0m\u001b[1;33m,\u001b[0m \u001b[0mstr\u001b[0m\u001b[1;33m)\u001b[0m \u001b[1;32mor\u001b[0m \u001b[0mis_array\u001b[0m\u001b[1;33m(\u001b[0m\u001b[0mo\u001b[0m\u001b[1;33m)\u001b[0m\u001b[1;33m:\u001b[0m \u001b[0mres\u001b[0m \u001b[1;33m=\u001b[0m \u001b[1;33m[\u001b[0m\u001b[0mo\u001b[0m\u001b[1;33m]\u001b[0m\u001b[1;33m\u001b[0m\u001b[1;33m\u001b[0m\u001b[0m\n\u001b[1;32m---> 56\u001b[1;33m     \u001b[1;32melif\u001b[0m \u001b[0mis_iter\u001b[0m\u001b[1;33m(\u001b[0m\u001b[0mo\u001b[0m\u001b[1;33m)\u001b[0m\u001b[1;33m:\u001b[0m \u001b[0mres\u001b[0m \u001b[1;33m=\u001b[0m \u001b[0mlist\u001b[0m\u001b[1;33m(\u001b[0m\u001b[0mo\u001b[0m\u001b[1;33m)\u001b[0m\u001b[1;33m\u001b[0m\u001b[1;33m\u001b[0m\u001b[0m\n\u001b[0m\u001b[0;32m     57\u001b[0m     \u001b[1;32melse\u001b[0m\u001b[1;33m:\u001b[0m \u001b[0mres\u001b[0m \u001b[1;33m=\u001b[0m \u001b[1;33m[\u001b[0m\u001b[0mo\u001b[0m\u001b[1;33m]\u001b[0m\u001b[1;33m\u001b[0m\u001b[1;33m\u001b[0m\u001b[0m\n\u001b[0;32m     58\u001b[0m     \u001b[1;32mif\u001b[0m \u001b[0mmatch\u001b[0m \u001b[1;32mis\u001b[0m \u001b[1;32mnot\u001b[0m \u001b[1;32mNone\u001b[0m\u001b[1;33m:\u001b[0m\u001b[1;33m\u001b[0m\u001b[1;33m\u001b[0m\u001b[0m\n",
      "\u001b[1;32m~\\anaconda3\\envs\\shot-classifier\\lib\\site-packages\\fastprogress\\fastprogress.py\u001b[0m in \u001b[0;36m__iter__\u001b[1;34m(self)\u001b[0m\n\u001b[0;32m     45\u001b[0m         \u001b[1;32mexcept\u001b[0m \u001b[0mException\u001b[0m \u001b[1;32mas\u001b[0m \u001b[0me\u001b[0m\u001b[1;33m:\u001b[0m\u001b[1;33m\u001b[0m\u001b[1;33m\u001b[0m\u001b[0m\n\u001b[0;32m     46\u001b[0m             \u001b[0mself\u001b[0m\u001b[1;33m.\u001b[0m\u001b[0mon_interrupt\u001b[0m\u001b[1;33m(\u001b[0m\u001b[1;33m)\u001b[0m\u001b[1;33m\u001b[0m\u001b[1;33m\u001b[0m\u001b[0m\n\u001b[1;32m---> 47\u001b[1;33m             \u001b[1;32mraise\u001b[0m \u001b[0me\u001b[0m\u001b[1;33m\u001b[0m\u001b[1;33m\u001b[0m\u001b[0m\n\u001b[0m\u001b[0;32m     48\u001b[0m \u001b[1;33m\u001b[0m\u001b[0m\n\u001b[0;32m     49\u001b[0m     \u001b[1;32mdef\u001b[0m \u001b[0mupdate\u001b[0m\u001b[1;33m(\u001b[0m\u001b[0mself\u001b[0m\u001b[1;33m,\u001b[0m \u001b[0mval\u001b[0m\u001b[1;33m)\u001b[0m\u001b[1;33m:\u001b[0m\u001b[1;33m\u001b[0m\u001b[1;33m\u001b[0m\u001b[0m\n",
      "\u001b[1;32m~\\anaconda3\\envs\\shot-classifier\\lib\\site-packages\\fastprogress\\fastprogress.py\u001b[0m in \u001b[0;36m__iter__\u001b[1;34m(self)\u001b[0m\n\u001b[0;32m     39\u001b[0m         \u001b[1;32mif\u001b[0m \u001b[0mself\u001b[0m\u001b[1;33m.\u001b[0m\u001b[0mtotal\u001b[0m \u001b[1;33m!=\u001b[0m \u001b[1;36m0\u001b[0m\u001b[1;33m:\u001b[0m \u001b[0mself\u001b[0m\u001b[1;33m.\u001b[0m\u001b[0mupdate\u001b[0m\u001b[1;33m(\u001b[0m\u001b[1;36m0\u001b[0m\u001b[1;33m)\u001b[0m\u001b[1;33m\u001b[0m\u001b[1;33m\u001b[0m\u001b[0m\n\u001b[0;32m     40\u001b[0m         \u001b[1;32mtry\u001b[0m\u001b[1;33m:\u001b[0m\u001b[1;33m\u001b[0m\u001b[1;33m\u001b[0m\u001b[0m\n\u001b[1;32m---> 41\u001b[1;33m             \u001b[1;32mfor\u001b[0m \u001b[0mi\u001b[0m\u001b[1;33m,\u001b[0m\u001b[0mo\u001b[0m \u001b[1;32min\u001b[0m \u001b[0menumerate\u001b[0m\u001b[1;33m(\u001b[0m\u001b[0mself\u001b[0m\u001b[1;33m.\u001b[0m\u001b[0mgen\u001b[0m\u001b[1;33m)\u001b[0m\u001b[1;33m:\u001b[0m\u001b[1;33m\u001b[0m\u001b[1;33m\u001b[0m\u001b[0m\n\u001b[0m\u001b[0;32m     42\u001b[0m                 \u001b[1;32mif\u001b[0m \u001b[0mi\u001b[0m \u001b[1;33m>=\u001b[0m \u001b[0mself\u001b[0m\u001b[1;33m.\u001b[0m\u001b[0mtotal\u001b[0m\u001b[1;33m:\u001b[0m \u001b[1;32mbreak\u001b[0m\u001b[1;33m\u001b[0m\u001b[1;33m\u001b[0m\u001b[0m\n\u001b[0;32m     43\u001b[0m                 \u001b[1;32myield\u001b[0m \u001b[0mo\u001b[0m\u001b[1;33m\u001b[0m\u001b[1;33m\u001b[0m\u001b[0m\n",
      "\u001b[1;32m~\\anaconda3\\envs\\shot-classifier\\lib\\concurrent\\futures\\process.py\u001b[0m in \u001b[0;36m_chain_from_iterable_of_lists\u001b[1;34m(iterable)\u001b[0m\n\u001b[0;32m    482\u001b[0m     \u001b[0mcareful\u001b[0m \u001b[1;32mnot\u001b[0m \u001b[0mto\u001b[0m \u001b[0mkeep\u001b[0m \u001b[0mreferences\u001b[0m \u001b[0mto\u001b[0m \u001b[0myielded\u001b[0m \u001b[0mobjects\u001b[0m\u001b[1;33m.\u001b[0m\u001b[1;33m\u001b[0m\u001b[1;33m\u001b[0m\u001b[0m\n\u001b[0;32m    483\u001b[0m     \"\"\"\n\u001b[1;32m--> 484\u001b[1;33m     \u001b[1;32mfor\u001b[0m \u001b[0melement\u001b[0m \u001b[1;32min\u001b[0m \u001b[0miterable\u001b[0m\u001b[1;33m:\u001b[0m\u001b[1;33m\u001b[0m\u001b[1;33m\u001b[0m\u001b[0m\n\u001b[0m\u001b[0;32m    485\u001b[0m         \u001b[0melement\u001b[0m\u001b[1;33m.\u001b[0m\u001b[0mreverse\u001b[0m\u001b[1;33m(\u001b[0m\u001b[1;33m)\u001b[0m\u001b[1;33m\u001b[0m\u001b[1;33m\u001b[0m\u001b[0m\n\u001b[0;32m    486\u001b[0m         \u001b[1;32mwhile\u001b[0m \u001b[0melement\u001b[0m\u001b[1;33m:\u001b[0m\u001b[1;33m\u001b[0m\u001b[1;33m\u001b[0m\u001b[0m\n",
      "\u001b[1;32m~\\anaconda3\\envs\\shot-classifier\\lib\\concurrent\\futures\\_base.py\u001b[0m in \u001b[0;36mresult_iterator\u001b[1;34m()\u001b[0m\n\u001b[0;32m    609\u001b[0m                     \u001b[1;31m# Careful not to keep a reference to the popped future\u001b[0m\u001b[1;33m\u001b[0m\u001b[1;33m\u001b[0m\u001b[1;33m\u001b[0m\u001b[0m\n\u001b[0;32m    610\u001b[0m                     \u001b[1;32mif\u001b[0m \u001b[0mtimeout\u001b[0m \u001b[1;32mis\u001b[0m \u001b[1;32mNone\u001b[0m\u001b[1;33m:\u001b[0m\u001b[1;33m\u001b[0m\u001b[1;33m\u001b[0m\u001b[0m\n\u001b[1;32m--> 611\u001b[1;33m                         \u001b[1;32myield\u001b[0m \u001b[0mfs\u001b[0m\u001b[1;33m.\u001b[0m\u001b[0mpop\u001b[0m\u001b[1;33m(\u001b[0m\u001b[1;33m)\u001b[0m\u001b[1;33m.\u001b[0m\u001b[0mresult\u001b[0m\u001b[1;33m(\u001b[0m\u001b[1;33m)\u001b[0m\u001b[1;33m\u001b[0m\u001b[1;33m\u001b[0m\u001b[0m\n\u001b[0m\u001b[0;32m    612\u001b[0m                     \u001b[1;32melse\u001b[0m\u001b[1;33m:\u001b[0m\u001b[1;33m\u001b[0m\u001b[1;33m\u001b[0m\u001b[0m\n\u001b[0;32m    613\u001b[0m                         \u001b[1;32myield\u001b[0m \u001b[0mfs\u001b[0m\u001b[1;33m.\u001b[0m\u001b[0mpop\u001b[0m\u001b[1;33m(\u001b[0m\u001b[1;33m)\u001b[0m\u001b[1;33m.\u001b[0m\u001b[0mresult\u001b[0m\u001b[1;33m(\u001b[0m\u001b[0mend_time\u001b[0m \u001b[1;33m-\u001b[0m \u001b[0mtime\u001b[0m\u001b[1;33m.\u001b[0m\u001b[0mmonotonic\u001b[0m\u001b[1;33m(\u001b[0m\u001b[1;33m)\u001b[0m\u001b[1;33m)\u001b[0m\u001b[1;33m\u001b[0m\u001b[1;33m\u001b[0m\u001b[0m\n",
      "\u001b[1;32m~\\anaconda3\\envs\\shot-classifier\\lib\\concurrent\\futures\\_base.py\u001b[0m in \u001b[0;36mresult\u001b[1;34m(self, timeout)\u001b[0m\n\u001b[0;32m    437\u001b[0m                 \u001b[1;32mraise\u001b[0m \u001b[0mCancelledError\u001b[0m\u001b[1;33m(\u001b[0m\u001b[1;33m)\u001b[0m\u001b[1;33m\u001b[0m\u001b[1;33m\u001b[0m\u001b[0m\n\u001b[0;32m    438\u001b[0m             \u001b[1;32melif\u001b[0m \u001b[0mself\u001b[0m\u001b[1;33m.\u001b[0m\u001b[0m_state\u001b[0m \u001b[1;33m==\u001b[0m \u001b[0mFINISHED\u001b[0m\u001b[1;33m:\u001b[0m\u001b[1;33m\u001b[0m\u001b[1;33m\u001b[0m\u001b[0m\n\u001b[1;32m--> 439\u001b[1;33m                 \u001b[1;32mreturn\u001b[0m \u001b[0mself\u001b[0m\u001b[1;33m.\u001b[0m\u001b[0m__get_result\u001b[0m\u001b[1;33m(\u001b[0m\u001b[1;33m)\u001b[0m\u001b[1;33m\u001b[0m\u001b[1;33m\u001b[0m\u001b[0m\n\u001b[0m\u001b[0;32m    440\u001b[0m             \u001b[1;32melse\u001b[0m\u001b[1;33m:\u001b[0m\u001b[1;33m\u001b[0m\u001b[1;33m\u001b[0m\u001b[0m\n\u001b[0;32m    441\u001b[0m                 \u001b[1;32mraise\u001b[0m \u001b[0mTimeoutError\u001b[0m\u001b[1;33m(\u001b[0m\u001b[1;33m)\u001b[0m\u001b[1;33m\u001b[0m\u001b[1;33m\u001b[0m\u001b[0m\n",
      "\u001b[1;32m~\\anaconda3\\envs\\shot-classifier\\lib\\concurrent\\futures\\_base.py\u001b[0m in \u001b[0;36m__get_result\u001b[1;34m(self)\u001b[0m\n\u001b[0;32m    386\u001b[0m     \u001b[1;32mdef\u001b[0m \u001b[0m__get_result\u001b[0m\u001b[1;33m(\u001b[0m\u001b[0mself\u001b[0m\u001b[1;33m)\u001b[0m\u001b[1;33m:\u001b[0m\u001b[1;33m\u001b[0m\u001b[1;33m\u001b[0m\u001b[0m\n\u001b[0;32m    387\u001b[0m         \u001b[1;32mif\u001b[0m \u001b[0mself\u001b[0m\u001b[1;33m.\u001b[0m\u001b[0m_exception\u001b[0m\u001b[1;33m:\u001b[0m\u001b[1;33m\u001b[0m\u001b[1;33m\u001b[0m\u001b[0m\n\u001b[1;32m--> 388\u001b[1;33m             \u001b[1;32mraise\u001b[0m \u001b[0mself\u001b[0m\u001b[1;33m.\u001b[0m\u001b[0m_exception\u001b[0m\u001b[1;33m\u001b[0m\u001b[1;33m\u001b[0m\u001b[0m\n\u001b[0m\u001b[0;32m    389\u001b[0m         \u001b[1;32melse\u001b[0m\u001b[1;33m:\u001b[0m\u001b[1;33m\u001b[0m\u001b[1;33m\u001b[0m\u001b[0m\n\u001b[0;32m    390\u001b[0m             \u001b[1;32mreturn\u001b[0m \u001b[0mself\u001b[0m\u001b[1;33m.\u001b[0m\u001b[0m_result\u001b[0m\u001b[1;33m\u001b[0m\u001b[1;33m\u001b[0m\u001b[0m\n",
      "\u001b[1;31mBrokenProcessPool\u001b[0m: A process in the process pool was terminated abruptly while the future was running or pending."
     ]
    }
   ],
   "source": [
    "for folder in ('wide_shot_images'):\n",
    "    verify_images(dest)\n"
   ]
  },
  {
   "cell_type": "code",
   "execution_count": null,
   "metadata": {},
   "outputs": [],
   "source": []
  }
 ]
}