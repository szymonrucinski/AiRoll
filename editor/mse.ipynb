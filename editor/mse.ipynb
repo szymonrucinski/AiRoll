{
 "metadata": {
  "language_info": {
   "codemirror_mode": {
    "name": "ipython",
    "version": 3
   },
   "file_extension": ".py",
   "mimetype": "text/x-python",
   "name": "python",
   "nbconvert_exporter": "python",
   "pygments_lexer": "ipython3",
   "version": "3.8.5-final"
  },
  "orig_nbformat": 2,
  "kernelspec": {
   "name": "python3",
   "display_name": "Python 3",
   "language": "python"
  }
 },
 "nbformat": 4,
 "nbformat_minor": 2,
 "cells": [
  {
   "cell_type": "code",
   "execution_count": 3,
   "metadata": {},
   "outputs": [],
   "source": [
    "from moviepy.editor import *\n",
    "from PIL import Image\n",
    "import random\n",
    "from fastai.vision.all import *\n",
    "import cv2\n",
    "import librosa\n",
    "from PIL import ImageFont\n",
    "from PIL import ImageDraw \n",
    "import numpy as np\n",
    "import matplotlib.pyplot as plt\n",
    "from scipy.io.wavfile import write\n",
    "import scipy.signal\n",
    "import scipy\n",
    "import librosa\n",
    "from colorthief import ColorThief\n",
    "import time\n",
    "import IPython.display as ipd\n",
    "import numpy as np\n",
    "import matplotlib.pyplot as plt\n"
   ]
  },
  {
   "cell_type": "code",
   "execution_count": 9,
   "metadata": {},
   "outputs": [
    {
     "output_type": "stream",
     "name": "stdout",
     "text": [
      "103.64864035724523\n"
     ]
    }
   ],
   "source": [
    "imagePath1 = 'D:\\\\Programowanie\\\\AI\\\\editor\\\\data\\\\samples\\\\motion_blur_comparison\\\\tobman_blurry.jpg'\n",
    "image = cv2.imread(imagePath1)\n",
    "gray = cv2.cvtColor(image, cv2.COLOR_BGR2GRAY)\n",
    "fm = cv2.Laplacian(gray, cv2.CV_64F).var()\n",
    "print(fm)"
   ]
  },
  {
   "cell_type": "code",
   "execution_count": 10,
   "metadata": {},
   "outputs": [],
   "source": [
    "imagePath1 = 'D:\\\\Programowanie\\\\AI\\\\editor\\\\data\\\\samples\\\\motion_blur_comparison\\\\tobman_still.jpg'\n",
    "image = cv2.imread(imagePath1)\n",
    "gray = cv2.cvtColor(image, cv2.COLOR_BGR2GRAY)\n",
    "fm = cv2.Laplacian(gray, cv2.CV_64F).var()\n",
    "print(fm)"
   ]
  },
  {
   "cell_type": "code",
   "execution_count": null,
   "metadata": {},
   "outputs": [],
   "source": []
  }
 ]
}