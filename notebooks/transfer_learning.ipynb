{
 "cells": [
  {
   "cell_type": "code",
   "execution_count": null,
   "metadata": {},
   "outputs": [],
   "source": [
    "from keras_preprocessing.image import ImageDataGenerator\n",
    "from tensorflow.keras.applications.resnet50 import preprocess_input, decode_predictions, ResNet50\n",
    "import tensorflow as tf\n",
    "import tensorflow_hub as hub\n",
    "import matplotlib.pylab as plt\n",
    "import numpy as np\n",
    "import tensorflow_datasets as tfds"
   ]
  },
  {
   "cell_type": "markdown",
   "metadata": {},
   "source": [
    "# Load Datasets"
   ]
  },
  {
   "cell_type": "code",
   "execution_count": 6,
   "metadata": {},
   "outputs": [
    {
     "name": "stderr",
     "output_type": "stream",
     "text": [
      "2022-12-22 20:17:11.970385: W tensorflow/core/platform/cloud/google_auth_provider.cc:184] All attempts to get a Google authentication bearer token failed, returning an empty token. Retrieving token from files failed with \"NOT_FOUND: Could not locate the credentials file.\". Retrieving token from GCE failed with \"FAILED_PRECONDITION: Error executing an HTTP request: libcurl code 6 meaning 'Couldn't resolve host name', error details: Could not resolve host: metadata\".\n"
     ]
    }
   ],
   "source": [
    "builder = tfds.ImageFolder('/Users/szymon.rucinski/Desktop/AiRoll/data/')"
   ]
  },
  {
   "cell_type": "code",
   "execution_count": 7,
   "metadata": {},
   "outputs": [
    {
     "name": "stdout",
     "output_type": "stream",
     "text": [
      "Metal device set to: Apple M1 Pro\n",
      "\n",
      "systemMemory: 16.00 GB\n",
      "maxCacheSize: 5.33 GB\n",
      "\n"
     ]
    },
    {
     "name": "stderr",
     "output_type": "stream",
     "text": [
      "2022-12-22 20:17:12.557025: I tensorflow/core/common_runtime/pluggable_device/pluggable_device_factory.cc:306] Could not identify NUMA node of platform GPU ID 0, defaulting to 0. Your kernel may not have been built with NUMA support.\n",
      "2022-12-22 20:17:12.557207: I tensorflow/core/common_runtime/pluggable_device/pluggable_device_factory.cc:272] Created TensorFlow device (/job:localhost/replica:0/task:0/device:GPU:0 with 0 MB memory) -> physical PluggableDevice (device: 0, name: METAL, pci bus id: <undefined>)\n"
     ]
    }
   ],
   "source": [
    "ds = builder.as_dataset(split='train', shuffle_files=True)\n",
    "# tfds.show_examples(ds, builder.info)"
   ]
  },
  {
   "cell_type": "markdown",
   "metadata": {},
   "source": [
    "## Display dataset"
   ]
  },
  {
   "cell_type": "code",
   "execution_count": 8,
   "metadata": {},
   "outputs": [
    {
     "ename": "FileNotFoundError",
     "evalue": "[Errno 2] No such file or directory: '../data/train/'",
     "output_type": "error",
     "traceback": [
      "\u001b[0;31m---------------------------------------------------------------------------\u001b[0m",
      "\u001b[0;31mFileNotFoundError\u001b[0m                         Traceback (most recent call last)",
      "Cell \u001b[0;32mIn[8], line 3\u001b[0m\n\u001b[1;32m      1\u001b[0m datagen \u001b[39m=\u001b[39m ImageDataGenerator(rescale\u001b[39m=\u001b[39m\u001b[39m1.\u001b[39m \u001b[39m/\u001b[39m \u001b[39m255\u001b[39m, horizontal_flip\u001b[39m=\u001b[39m\u001b[39mTrue\u001b[39;00m,validation_split\u001b[39m=\u001b[39m\u001b[39m0.2\u001b[39m)\n\u001b[0;32m----> 3\u001b[0m train_generator \u001b[39m=\u001b[39m datagen\u001b[39m.\u001b[39;49mflow_from_directory(\n\u001b[1;32m      4\u001b[0m     directory\u001b[39m=\u001b[39;49m\u001b[39mr\u001b[39;49m\u001b[39m\"\u001b[39;49m\u001b[39m../data/train/\u001b[39;49m\u001b[39m\"\u001b[39;49m,\n\u001b[1;32m      5\u001b[0m     target_size\u001b[39m=\u001b[39;49m(\u001b[39m224\u001b[39;49m, \u001b[39m224\u001b[39;49m),\n\u001b[1;32m      6\u001b[0m     color_mode\u001b[39m=\u001b[39;49m\u001b[39m\"\u001b[39;49m\u001b[39mrgb\u001b[39;49m\u001b[39m\"\u001b[39;49m,\n\u001b[1;32m      7\u001b[0m     batch_size\u001b[39m=\u001b[39;49m\u001b[39m32\u001b[39;49m,\n\u001b[1;32m      8\u001b[0m     class_mode\u001b[39m=\u001b[39;49m\u001b[39m\"\u001b[39;49m\u001b[39mcategorical\u001b[39;49m\u001b[39m\"\u001b[39;49m,\n\u001b[1;32m      9\u001b[0m     shuffle\u001b[39m=\u001b[39;49m\u001b[39mTrue\u001b[39;49;00m,\n\u001b[1;32m     10\u001b[0m     seed\u001b[39m=\u001b[39;49m\u001b[39m42\u001b[39;49m,\n\u001b[1;32m     11\u001b[0m     subset\u001b[39m=\u001b[39;49m\u001b[39m\"\u001b[39;49m\u001b[39mtraining\u001b[39;49m\u001b[39m\"\u001b[39;49m\n\u001b[1;32m     12\u001b[0m )\n\u001b[1;32m     14\u001b[0m validation_generator \u001b[39m=\u001b[39m datagen\u001b[39m.\u001b[39mflow_from_directory(\n\u001b[1;32m     15\u001b[0m     directory\u001b[39m=\u001b[39m\u001b[39mr\u001b[39m\u001b[39m\"\u001b[39m\u001b[39m../data/train/\u001b[39m\u001b[39m\"\u001b[39m,\n\u001b[1;32m     16\u001b[0m     target_size\u001b[39m=\u001b[39m(\u001b[39m224\u001b[39m, \u001b[39m224\u001b[39m),\n\u001b[0;32m   (...)\u001b[0m\n\u001b[1;32m     22\u001b[0m     subset\u001b[39m=\u001b[39m\u001b[39m\"\u001b[39m\u001b[39mvalidation\u001b[39m\u001b[39m\"\u001b[39m\n\u001b[1;32m     23\u001b[0m )\n",
      "File \u001b[0;32m~/.local/share/virtualenvs/AiRoll-tKjZg6XZ/lib/python3.10/site-packages/keras_preprocessing/image/image_data_generator.py:526\u001b[0m, in \u001b[0;36mImageDataGenerator.flow_from_directory\u001b[0;34m(self, directory, target_size, color_mode, classes, class_mode, batch_size, shuffle, seed, save_to_dir, save_prefix, save_format, follow_links, subset, interpolation)\u001b[0m\n\u001b[1;32m    437\u001b[0m \u001b[39mdef\u001b[39;00m \u001b[39mflow_from_directory\u001b[39m(\u001b[39mself\u001b[39m,\n\u001b[1;32m    438\u001b[0m                         directory,\n\u001b[1;32m    439\u001b[0m                         target_size\u001b[39m=\u001b[39m(\u001b[39m256\u001b[39m, \u001b[39m256\u001b[39m),\n\u001b[0;32m   (...)\u001b[0m\n\u001b[1;32m    450\u001b[0m                         subset\u001b[39m=\u001b[39m\u001b[39mNone\u001b[39;00m,\n\u001b[1;32m    451\u001b[0m                         interpolation\u001b[39m=\u001b[39m\u001b[39m'\u001b[39m\u001b[39mnearest\u001b[39m\u001b[39m'\u001b[39m):\n\u001b[1;32m    452\u001b[0m     \u001b[39m\"\"\"Takes the path to a directory & generates batches of augmented data.\u001b[39;00m\n\u001b[1;32m    453\u001b[0m \n\u001b[1;32m    454\u001b[0m \u001b[39m    # Arguments\u001b[39;00m\n\u001b[0;32m   (...)\u001b[0m\n\u001b[1;32m    524\u001b[0m \u001b[39m            and `y` is a NumPy array of corresponding labels.\u001b[39;00m\n\u001b[1;32m    525\u001b[0m \u001b[39m    \"\"\"\u001b[39;00m\n\u001b[0;32m--> 526\u001b[0m     \u001b[39mreturn\u001b[39;00m DirectoryIterator(\n\u001b[1;32m    527\u001b[0m         directory,\n\u001b[1;32m    528\u001b[0m         \u001b[39mself\u001b[39;49m,\n\u001b[1;32m    529\u001b[0m         target_size\u001b[39m=\u001b[39;49mtarget_size,\n\u001b[1;32m    530\u001b[0m         color_mode\u001b[39m=\u001b[39;49mcolor_mode,\n\u001b[1;32m    531\u001b[0m         classes\u001b[39m=\u001b[39;49mclasses,\n\u001b[1;32m    532\u001b[0m         class_mode\u001b[39m=\u001b[39;49mclass_mode,\n\u001b[1;32m    533\u001b[0m         data_format\u001b[39m=\u001b[39;49m\u001b[39mself\u001b[39;49m\u001b[39m.\u001b[39;49mdata_format,\n\u001b[1;32m    534\u001b[0m         batch_size\u001b[39m=\u001b[39;49mbatch_size,\n\u001b[1;32m    535\u001b[0m         shuffle\u001b[39m=\u001b[39;49mshuffle,\n\u001b[1;32m    536\u001b[0m         seed\u001b[39m=\u001b[39;49mseed,\n\u001b[1;32m    537\u001b[0m         save_to_dir\u001b[39m=\u001b[39;49msave_to_dir,\n\u001b[1;32m    538\u001b[0m         save_prefix\u001b[39m=\u001b[39;49msave_prefix,\n\u001b[1;32m    539\u001b[0m         save_format\u001b[39m=\u001b[39;49msave_format,\n\u001b[1;32m    540\u001b[0m         follow_links\u001b[39m=\u001b[39;49mfollow_links,\n\u001b[1;32m    541\u001b[0m         subset\u001b[39m=\u001b[39;49msubset,\n\u001b[1;32m    542\u001b[0m         interpolation\u001b[39m=\u001b[39;49minterpolation,\n\u001b[1;32m    543\u001b[0m         dtype\u001b[39m=\u001b[39;49m\u001b[39mself\u001b[39;49m\u001b[39m.\u001b[39;49mdtype\n\u001b[1;32m    544\u001b[0m     )\n",
      "File \u001b[0;32m~/.local/share/virtualenvs/AiRoll-tKjZg6XZ/lib/python3.10/site-packages/keras_preprocessing/image/directory_iterator.py:115\u001b[0m, in \u001b[0;36mDirectoryIterator.__init__\u001b[0;34m(self, directory, image_data_generator, target_size, color_mode, classes, class_mode, batch_size, shuffle, seed, data_format, save_to_dir, save_prefix, save_format, follow_links, subset, interpolation, dtype)\u001b[0m\n\u001b[1;32m    113\u001b[0m \u001b[39mif\u001b[39;00m \u001b[39mnot\u001b[39;00m classes:\n\u001b[1;32m    114\u001b[0m     classes \u001b[39m=\u001b[39m []\n\u001b[0;32m--> 115\u001b[0m     \u001b[39mfor\u001b[39;00m subdir \u001b[39min\u001b[39;00m \u001b[39msorted\u001b[39m(os\u001b[39m.\u001b[39;49mlistdir(directory)):\n\u001b[1;32m    116\u001b[0m         \u001b[39mif\u001b[39;00m os\u001b[39m.\u001b[39mpath\u001b[39m.\u001b[39misdir(os\u001b[39m.\u001b[39mpath\u001b[39m.\u001b[39mjoin(directory, subdir)):\n\u001b[1;32m    117\u001b[0m             classes\u001b[39m.\u001b[39mappend(subdir)\n",
      "\u001b[0;31mFileNotFoundError\u001b[0m: [Errno 2] No such file or directory: '../data/train/'"
     ]
    }
   ],
   "source": [
    "datagen = ImageDataGenerator(rescale=1. / 255, horizontal_flip=True,validation_split=0.2)\n",
    "\n",
    "train_generator = datagen.flow_from_directory(\n",
    "    directory=r\"../data/train/\",\n",
    "    target_size=(224, 224),\n",
    "    color_mode=\"rgb\",\n",
    "    batch_size=32,\n",
    "    class_mode=\"categorical\",\n",
    "    shuffle=True,\n",
    "    seed=42,\n",
    "    subset=\"training\"\n",
    ")\n",
    "\n",
    "validation_generator = datagen.flow_from_directory(\n",
    "    directory=r\"../data/train/\",\n",
    "    target_size=(224, 224),\n",
    "    color_mode=\"rgb\",\n",
    "    batch_size=32,\n",
    "    class_mode=\"categorical\",\n",
    "    shuffle=True,\n",
    "    seed=42,\n",
    "    subset=\"validation\"\n",
    ")"
   ]
  },
  {
   "cell_type": "code",
   "execution_count": null,
   "metadata": {},
   "outputs": [
    {
     "ename": "",
     "evalue": "",
     "output_type": "error",
     "traceback": [
      "\u001b[1;31mUruchomienie komórek z elementem „AiRoll-0jqWoul_” wymaga pakietu ipykernel.\n",
      "\u001b[1;31mUruchom następujące polecenie, aby zainstalować element „ipykernel” w środowisku języka Python. \n",
      "\u001b[1;31mPolecenie: „/Users/szymon.rucinski/.local/share/virtualenvs/AiRoll-0jqWoul_/bin/python -m pip install ipykernel -U --force-reinstall”"
     ]
    }
   ],
   "source": [
    "from itertools import count\n",
    "a = train_generator.classes.flatten().tolist()\n",
    "dist_dict = {}\n",
    "for label,number in train_generator.class_indices.items():\n",
    "    dist_dict[label] = a.count(number)\n",
    "dist_dict"
   ]
  },
  {
   "cell_type": "code",
   "execution_count": null,
   "metadata": {},
   "outputs": [
    {
     "ename": "",
     "evalue": "",
     "output_type": "error",
     "traceback": [
      "\u001b[1;31mUruchomienie komórek z elementem „AiRoll-0jqWoul_” wymaga pakietu ipykernel.\n",
      "\u001b[1;31mUruchom następujące polecenie, aby zainstalować element „ipykernel” w środowisku języka Python. \n",
      "\u001b[1;31mPolecenie: „/Users/szymon.rucinski/.local/share/virtualenvs/AiRoll-0jqWoul_/bin/python -m pip install ipykernel -U --force-reinstall”"
     ]
    }
   ],
   "source": [
    "train_generator.class_indices.items()"
   ]
  },
  {
   "cell_type": "code",
   "execution_count": null,
   "metadata": {},
   "outputs": [
    {
     "ename": "",
     "evalue": "",
     "output_type": "error",
     "traceback": [
      "\u001b[1;31mUruchomienie komórek z elementem „AiRoll-0jqWoul_” wymaga pakietu ipykernel.\n",
      "\u001b[1;31mUruchom następujące polecenie, aby zainstalować element „ipykernel” w środowisku języka Python. \n",
      "\u001b[1;31mPolecenie: „/Users/szymon.rucinski/.local/share/virtualenvs/AiRoll-0jqWoul_/bin/python -m pip install ipykernel -U --force-reinstall”"
     ]
    }
   ],
   "source": [
    "for _ in range(5):\n",
    "    img, label = train_generator.next()\n",
    "    print(img.shape)   #  (1,256,256,3)\n",
    "    plt.imshow(img[0])\n",
    "    plt.show()"
   ]
  },
  {
   "cell_type": "code",
   "execution_count": null,
   "metadata": {},
   "outputs": [
    {
     "ename": "",
     "evalue": "",
     "output_type": "error",
     "traceback": [
      "\u001b[1;31mUruchomienie komórek z elementem „AiRoll-0jqWoul_” wymaga pakietu ipykernel.\n",
      "\u001b[1;31mUruchom następujące polecenie, aby zainstalować element „ipykernel” w środowisku języka Python. \n",
      "\u001b[1;31mPolecenie: „/Users/szymon.rucinski/.local/share/virtualenvs/AiRoll-0jqWoul_/bin/python -m pip install ipykernel -U --force-reinstall”"
     ]
    }
   ],
   "source": [
    "train_generator.class_indices"
   ]
  },
  {
   "cell_type": "markdown",
   "metadata": {},
   "source": [
    "# Model Compilation"
   ]
  },
  {
   "cell_type": "code",
   "execution_count": null,
   "metadata": {},
   "outputs": [
    {
     "ename": "",
     "evalue": "",
     "output_type": "error",
     "traceback": [
      "\u001b[1;31mUruchomienie komórek z elementem „AiRoll-0jqWoul_” wymaga pakietu ipykernel.\n",
      "\u001b[1;31mUruchom następujące polecenie, aby zainstalować element „ipykernel” w środowisku języka Python. \n",
      "\u001b[1;31mPolecenie: „/Users/szymon.rucinski/.local/share/virtualenvs/AiRoll-0jqWoul_/bin/python -m pip install ipykernel -U --force-reinstall”"
     ]
    }
   ],
   "source": [
    "resnet50 = ResNet50(include_top=False)\n",
    "resnet50.trainable = False"
   ]
  },
  {
   "cell_type": "code",
   "execution_count": null,
   "metadata": {},
   "outputs": [
    {
     "ename": "",
     "evalue": "",
     "output_type": "error",
     "traceback": [
      "\u001b[1;31mUruchomienie komórek z elementem „AiRoll-0jqWoul_” wymaga pakietu ipykernel.\n",
      "\u001b[1;31mUruchom następujące polecenie, aby zainstalować element „ipykernel” w środowisku języka Python. \n",
      "\u001b[1;31mPolecenie: „/Users/szymon.rucinski/.local/share/virtualenvs/AiRoll-0jqWoul_/bin/python -m pip install ipykernel -U --force-reinstall”"
     ]
    }
   ],
   "source": [
    "# To ensure that TensorFlow does not retrain the mobile_net_layers, use this code:\n"
   ]
  },
  {
   "cell_type": "code",
   "execution_count": null,
   "metadata": {},
   "outputs": [
    {
     "ename": "",
     "evalue": "",
     "output_type": "error",
     "traceback": [
      "\u001b[1;31mUruchomienie komórek z elementem „AiRoll-0jqWoul_” wymaga pakietu ipykernel.\n",
      "\u001b[1;31mUruchom następujące polecenie, aby zainstalować element „ipykernel” w środowisku języka Python. \n",
      "\u001b[1;31mPolecenie: „/Users/szymon.rucinski/.local/share/virtualenvs/AiRoll-0jqWoul_/bin/python -m pip install ipykernel -U --force-reinstall”"
     ]
    }
   ],
   "source": [
    "# # Build the neural network and add custom layers.\n",
    "# neural_net = tf.keras.Sequential([\n",
    "#   resnet50,\n",
    "#   tf.keras.layers.Dropout(0.2),\n",
    "#   tf.keras.layers.Dense(7,activation='softmax')\n",
    "# ])"
   ]
  },
  {
   "cell_type": "code",
   "execution_count": null,
   "metadata": {},
   "outputs": [
    {
     "ename": "",
     "evalue": "",
     "output_type": "error",
     "traceback": [
      "\u001b[1;31mUruchomienie komórek z elementem „AiRoll-0jqWoul_” wymaga pakietu ipykernel.\n",
      "\u001b[1;31mUruchom następujące polecenie, aby zainstalować element „ipykernel” w środowisku języka Python. \n",
      "\u001b[1;31mPolecenie: „/Users/szymon.rucinski/.local/share/virtualenvs/AiRoll-0jqWoul_/bin/python -m pip install ipykernel -U --force-reinstall”"
     ]
    }
   ],
   "source": [
    "resnet_model = tf.keras.Sequential()\n",
    "pretrained_model = tf.keras.applications.resnet50.ResNet50(\n",
    "    input_shape=(224,224,3),\n",
    "    include_top=False,\n",
    "    weights='imagenet',\n",
    "    input_tensor=None,\n",
    "    pooling=\"avg\",\n",
    "    classes=7)\n",
    "for layer in pretrained_model.layers:\n",
    "    layer.trainable = False\n",
    "\n",
    "resnet_model.add(pretrained_model)\n",
    "resnet_model.add(tf.keras.layers.Flatten())\n",
    "resnet_model.add(tf.keras.layers.Dense(512, activation='relu'))\n",
    "resnet_model.add(tf.keras.layers.Dropout(rate=0.3))\n",
    "resnet_model.add(tf.keras.layers.Dense(7, activation='softmax'))"
   ]
  },
  {
   "cell_type": "code",
   "execution_count": null,
   "metadata": {},
   "outputs": [
    {
     "ename": "",
     "evalue": "",
     "output_type": "error",
     "traceback": [
      "\u001b[1;31mUruchomienie komórek z elementem „AiRoll-0jqWoul_” wymaga pakietu ipykernel.\n",
      "\u001b[1;31mUruchom następujące polecenie, aby zainstalować element „ipykernel” w środowisku języka Python. \n",
      "\u001b[1;31mPolecenie: „/Users/szymon.rucinski/.local/share/virtualenvs/AiRoll-0jqWoul_/bin/python -m pip install ipykernel -U --force-reinstall”"
     ]
    }
   ],
   "source": [
    "resnet_model.summary()"
   ]
  },
  {
   "cell_type": "code",
   "execution_count": null,
   "metadata": {},
   "outputs": [
    {
     "ename": "",
     "evalue": "",
     "output_type": "error",
     "traceback": [
      "\u001b[1;31mUruchomienie komórek z elementem „AiRoll-0jqWoul_” wymaga pakietu ipykernel.\n",
      "\u001b[1;31mUruchom następujące polecenie, aby zainstalować element „ipykernel” w środowisku języka Python. \n",
      "\u001b[1;31mPolecenie: „/Users/szymon.rucinski/.local/share/virtualenvs/AiRoll-0jqWoul_/bin/python -m pip install ipykernel -U --force-reinstall”"
     ]
    }
   ],
   "source": [
    "#Compile the deep neural network using the following code\n",
    "learning_rate = 0.1\n",
    "epochs=100\n",
    "resnet_model.compile(\n",
    "  optimizer=tf.keras.optimizers.Adam(),\n",
    "  loss=tf.keras.losses.CategoricalCrossentropy(),\n",
    "  metrics=[\n",
    "            tf.keras.metrics.Accuracy(),\n",
    "            tf.keras.metrics.Precision(),\n",
    "            tf.keras.metrics.Recall(),\n",
    "        ],\n",
    ")"
   ]
  },
  {
   "cell_type": "code",
   "execution_count": null,
   "metadata": {},
   "outputs": [
    {
     "ename": "",
     "evalue": "",
     "output_type": "error",
     "traceback": [
      "\u001b[1;31mUruchomienie komórek z elementem „AiRoll-0jqWoul_” wymaga pakietu ipykernel.\n",
      "\u001b[1;31mUruchom następujące polecenie, aby zainstalować element „ipykernel” w środowisku języka Python. \n",
      "\u001b[1;31mPolecenie: „/Users/szymon.rucinski/.local/share/virtualenvs/AiRoll-0jqWoul_/bin/python -m pip install ipykernel -U --force-reinstall”"
     ]
    }
   ],
   "source": [
    "model_fit = resnet_model.fit(train_generator, epochs=epochs, validation_data=validation_generator, callbacks=[\n",
    "            tf.keras.callbacks.EarlyStopping(patience=10, restore_best_weights=True)\n",
    "        ],)      "
   ]
  },
  {
   "cell_type": "code",
   "execution_count": null,
   "metadata": {},
   "outputs": [
    {
     "ename": "",
     "evalue": "",
     "output_type": "error",
     "traceback": [
      "\u001b[1;31mUruchomienie komórek z elementem „AiRoll-0jqWoul_” wymaga pakietu ipykernel.\n",
      "\u001b[1;31mUruchom następujące polecenie, aby zainstalować element „ipykernel” w środowisku języka Python. \n",
      "\u001b[1;31mPolecenie: „/Users/szymon.rucinski/.local/share/virtualenvs/AiRoll-0jqWoul_/bin/python -m pip install ipykernel -U --force-reinstall”"
     ]
    }
   ],
   "source": [
    "for _ in range(5):\n",
    "    img, label = train_generator.next()\n",
    "    print(img.shape)\n",
    "    plt.imshow(img[0])\n",
    "    plt.show()"
   ]
  },
  {
   "cell_type": "code",
   "execution_count": null,
   "metadata": {},
   "outputs": [
    {
     "ename": "",
     "evalue": "",
     "output_type": "error",
     "traceback": [
      "\u001b[1;31mUruchomienie komórek z elementem „AiRoll-0jqWoul_” wymaga pakietu ipykernel.\n",
      "\u001b[1;31mUruchom następujące polecenie, aby zainstalować element „ipykernel” w środowisku języka Python. \n",
      "\u001b[1;31mPolecenie: „/Users/szymon.rucinski/.local/share/virtualenvs/AiRoll-0jqWoul_/bin/python -m pip install ipykernel -U --force-reinstall”"
     ]
    }
   ],
   "source": [
    "from tensorflow.keras.models import Model\n",
    "\n",
    "conv_output = neural_net.get_layer('resnet50').get_layer(\"conv5_block3_out\").output\n",
    "pred_output = neural_net.get_layer(\"dense\").output\n",
    "input_layer = neural_net.get_layer('resnet50').get_layer('input_1').input\n",
    "\n",
    "\n",
    "explained_model = tf.keras.Model(input_layer, outputs=[conv_output, pred_output])"
   ]
  },
  {
   "cell_type": "code",
   "execution_count": null,
   "metadata": {},
   "outputs": [
    {
     "ename": "",
     "evalue": "",
     "output_type": "error",
     "traceback": [
      "\u001b[1;31mUruchomienie komórek z elementem „AiRoll-0jqWoul_” wymaga pakietu ipykernel.\n",
      "\u001b[1;31mUruchom następujące polecenie, aby zainstalować element „ipykernel” w środowisku języka Python. \n",
      "\u001b[1;31mPolecenie: „/Users/szymon.rucinski/.local/share/virtualenvs/AiRoll-0jqWoul_/bin/python -m pip install ipykernel -U --force-reinstall”"
     ]
    }
   ],
   "source": [
    "pred_output = neural_net.get_layer(\"dense_9\").output"
   ]
  },
  {
   "cell_type": "code",
   "execution_count": null,
   "metadata": {},
   "outputs": [
    {
     "ename": "",
     "evalue": "",
     "output_type": "error",
     "traceback": [
      "\u001b[1;31mUruchomienie komórek z elementem „AiRoll-0jqWoul_” wymaga pakietu ipykernel.\n",
      "\u001b[1;31mUruchom następujące polecenie, aby zainstalować element „ipykernel” w środowisku języka Python. \n",
      "\u001b[1;31mPolecenie: „/Users/szymon.rucinski/.local/share/virtualenvs/AiRoll-0jqWoul_/bin/python -m pip install ipykernel -U --force-reinstall”"
     ]
    }
   ],
   "source": [
    "neural_net.get_layer('resnet50').get_layer(\"input_9\").input"
   ]
  }
 ],
 "metadata": {
  "kernelspec": {
   "display_name": "AiRoll-tKjZg6XZ",
   "language": "python",
   "name": "python3"
  },
  "language_info": {
   "codemirror_mode": {
    "name": "ipython",
    "version": 3
   },
   "file_extension": ".py",
   "mimetype": "text/x-python",
   "name": "python",
   "nbconvert_exporter": "python",
   "pygments_lexer": "ipython3",
   "version": "3.9.16"
  },
  "orig_nbformat": 4,
  "vscode": {
   "interpreter": {
    "hash": "6d8da1e68d5bec27d277d8e9d503ce326a53eb7cf1f55803bb0e88df1a660992"
   }
  }
 },
 "nbformat": 4,
 "nbformat_minor": 2
}
