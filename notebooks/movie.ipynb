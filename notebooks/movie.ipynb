{
 "metadata": {
  "language_info": {
   "codemirror_mode": {
    "name": "ipython",
    "version": 3
   },
   "file_extension": ".py",
   "mimetype": "text/x-python",
   "name": "python",
   "nbconvert_exporter": "python",
   "pygments_lexer": "ipython3",
   "version": "3.8.5-final"
  },
  "orig_nbformat": 2,
  "kernelspec": {
   "name": "python3",
   "display_name": "Python 3",
   "language": "python"
  }
 },
 "nbformat": 4,
 "nbformat_minor": 2,
 "cells": [
  {
   "cell_type": "code",
   "execution_count": 1,
   "metadata": {},
   "outputs": [],
   "source": [
    "from conf import SAMPLE_INPUTS, SAMPLE_OUTPUTS, AUDIO_DEPT, BASE_DIR, MODEL_PATH\n",
    "from moviepy.editor import *\n",
    "from PIL import Image\n",
    "from copy import deepcopy\n",
    "from fastai.vision.all import *\n",
    "import cv2\n",
    "import librosa\n",
    "import numpy as np\n",
    "import matplotlib.pyplot as plt\n",
    "import librosa\n",
    "import time\n",
    "import numpy as np\n",
    "import subprocess\n",
    "import matplotlib.pyplot as plt\n",
    "from video_stab import get_stable_footage\n",
    "from video_controller import Video_controller\n",
    "from get_audio_peaks import get_audio_peaks\n",
    "from editing_tool import Editing_tool\n",
    "import time"
   ]
  },
  {
   "cell_type": "code",
   "execution_count": 4,
   "metadata": {},
   "outputs": [],
   "source": [
    "path = 'C:\\\\Users\\\\Szymon\\\\Desktop\\\\Erasmus\\\\MVI_1581_1.mp4'"
   ]
  },
  {
   "cell_type": "code",
   "execution_count": 5,
   "metadata": {},
   "outputs": [
    {
     "output_type": "stream",
     "name": "stdout",
     "text": [
      "C:\\Users\\Szymon\\Desktop\\Erasmus\\MVI_1581_1.mp4\n"
     ]
    }
   ],
   "source": [
    "    vc = Video_controller(path)"
   ]
  },
  {
   "cell_type": "code",
   "execution_count": 18,
   "metadata": {},
   "outputs": [],
   "source": [
    "frames = vc.clip.iter_frames()"
   ]
  },
  {
   "cell_type": "code",
   "execution_count": 22,
   "metadata": {},
   "outputs": [
    {
     "output_type": "execute_result",
     "data": {
      "text/plain": [
       "generator"
      ]
     },
     "metadata": {},
     "execution_count": 22
    }
   ],
   "source": [
    "type(frames)"
   ]
  },
  {
   "cell_type": "code",
   "execution_count": 58,
   "metadata": {},
   "outputs": [
    {
     "output_type": "stream",
     "name": "stdout",
     "text": [
      "0.4960000514984131\n"
     ]
    }
   ],
   "source": [
    "t0 = time.time()\n",
    "n_frames = sum(1 for x in vc.clip.iter_frames())\n",
    "t1 = time.time()\n",
    "total = t1-t0\n",
    "print(total)\n",
    "\n"
   ]
  },
  {
   "cell_type": "code",
   "execution_count": 29,
   "metadata": {},
   "outputs": [
    {
     "output_type": "stream",
     "name": "stdout",
     "text": [
      "223\n"
     ]
    }
   ],
   "source": [
    "print(n_frames)"
   ]
  },
  {
   "cell_type": "code",
   "execution_count": 98,
   "metadata": {},
   "outputs": [
    {
     "output_type": "stream",
     "name": "stdout",
     "text": [
      "223\n0.0\n"
     ]
    }
   ],
   "source": [
    "t0 = time.time()\n",
    "n_frames = vc.clip.reader.nframes\n",
    "t1 = time.time()\n",
    "total = t1-t0\n",
    "\n",
    "print(n_frames)\n",
    "print(total)"
   ]
  },
  {
   "cell_type": "code",
   "execution_count": 105,
   "metadata": {},
   "outputs": [],
   "source": []
  },
  {
   "cell_type": "code",
   "execution_count": 131,
   "metadata": {},
   "outputs": [
    {
     "output_type": "stream",
     "name": "stdout",
     "text": [
      "223\n0.7169995307922363\n144\n"
     ]
    }
   ],
   "source": [
    "t0 = time.time()\n",
    "arr = np.empty((n_frames, vc.clip.h, vc.clip.w,3))\n",
    "for i,frame in enumerate(vc.clip.iter_frames()):\n",
    "    arr[i] = frame\n",
    "whole_movie = arr[15:70]\n",
    "t1 = time.time()\n",
    "total = t1-t0\n",
    "print(n_frames)\n",
    "print(total)\n",
    "print(sys.getsizeof(arr[15:70]))\n"
   ]
  },
  {
   "cell_type": "code",
   "execution_count": 137,
   "metadata": {},
   "outputs": [
    {
     "output_type": "stream",
     "name": "stdout",
     "text": [
      "223\n0.5179989337921143\n128\n"
     ]
    }
   ],
   "source": [
    "t0 = time.time()\n",
    "arr = []\n",
    "for i,frame in enumerate(vc.clip.iter_frames()):\n",
    "    arr.append(frame)\n",
    "whole_movie = arr[15:70]\n",
    "t1 = time.time()\n",
    "total = t1-t0\n",
    "print(n_frames)\n",
    "print(total)\n",
    "print(sys.getsizeof(arr[1]))"
   ]
  },
  {
   "cell_type": "code",
   "execution_count": null,
   "metadata": {},
   "outputs": [],
   "source": []
  }
 ]
}