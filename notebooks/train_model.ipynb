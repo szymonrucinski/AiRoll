{
 "cells": [
  {
   "cell_type": "code",
   "execution_count": 5,
   "metadata": {},
   "outputs": [
    {
     "ename": "ModuleNotFoundError",
     "evalue": "No module named 'azure'",
     "output_type": "error",
     "traceback": [
      "\u001b[0;31m---------------------------------------------------------------------------\u001b[0m",
      "\u001b[0;31mModuleNotFoundError\u001b[0m                       Traceback (most recent call last)",
      "Cell \u001b[0;32mIn[5], line 9\u001b[0m\n\u001b[1;32m      7\u001b[0m \u001b[39mfrom\u001b[39;00m \u001b[39mfastai\u001b[39;00m\u001b[39m.\u001b[39;00m\u001b[39mvision\u001b[39;00m\u001b[39m.\u001b[39;00m\u001b[39mall\u001b[39;00m \u001b[39mimport\u001b[39;00m \u001b[39m*\u001b[39m\n\u001b[1;32m      8\u001b[0m \u001b[39mfrom\u001b[39;00m \u001b[39mfastai\u001b[39;00m\u001b[39m.\u001b[39;00m\u001b[39mvision\u001b[39;00m\u001b[39m.\u001b[39;00m\u001b[39mwidgets\u001b[39;00m \u001b[39mimport\u001b[39;00m \u001b[39m*\u001b[39m\n\u001b[0;32m----> 9\u001b[0m \u001b[39mfrom\u001b[39;00m \u001b[39mazure\u001b[39;00m\u001b[39m.\u001b[39;00m\u001b[39mcognitiveservices\u001b[39;00m\u001b[39m.\u001b[39;00m\u001b[39msearch\u001b[39;00m\u001b[39m.\u001b[39;00m\u001b[39mimagesearch\u001b[39;00m \u001b[39mimport\u001b[39;00m ImageSearchClient \u001b[39mas\u001b[39;00m api\n\u001b[1;32m     10\u001b[0m fastbook\u001b[39m.\u001b[39msetup_book()\n",
      "\u001b[0;31mModuleNotFoundError\u001b[0m: No module named 'azure'"
     ]
    }
   ],
   "source": [
    "import fastbook\n",
    "import os\n",
    "from PIL import Image\n",
    "import requests\n",
    "# from key import key\n",
    "import numpy as np\n",
    "from fastai.vision.all import *\n",
    "from fastai.vision.widgets import *\n",
    "from azure.cognitiveservices.search.imagesearch import ImageSearchClient as api\n",
    "fastbook.setup_book()"
   ]
  },
  {
   "cell_type": "code",
   "execution_count": null,
   "metadata": {},
   "outputs": [
    {
     "ename": "",
     "evalue": "",
     "output_type": "error",
     "traceback": [
      "\u001b[1;31mUruchomienie komórek z elementem „AiRoll-0jqWoul_” wymaga pakietu ipykernel.\n",
      "\u001b[1;31mUruchom następujące polecenie, aby zainstalować element „ipykernel” w środowisku języka Python. \n",
      "\u001b[1;31mPolecenie: „/Users/szymon.rucinski/.local/share/virtualenvs/AiRoll-0jqWoul_/bin/python -m pip install ipykernel -U --force-reinstall”"
     ]
    }
   ],
   "source": [
    "img_count = 200"
   ]
  },
  {
   "cell_type": "code",
   "execution_count": null,
   "metadata": {},
   "outputs": [
    {
     "ename": "",
     "evalue": "",
     "output_type": "error",
     "traceback": [
      "\u001b[1;31mUruchomienie komórek z elementem „AiRoll-0jqWoul_” wymaga pakietu ipykernel.\n",
      "\u001b[1;31mUruchom następujące polecenie, aby zainstalować element „ipykernel” w środowisku języka Python. \n",
      "\u001b[1;31mPolecenie: „/Users/szymon.rucinski/.local/share/virtualenvs/AiRoll-0jqWoul_/bin/python -m pip install ipykernel -U --force-reinstall”"
     ]
    }
   ],
   "source": [
    "BASE_DIR = os.path.dirname(os.path.abspath('__file__'))\n",
    "path = Path('.')\n",
    "print(BASE_DIR)"
   ]
  },
  {
   "cell_type": "code",
   "execution_count": null,
   "metadata": {},
   "outputs": [
    {
     "ename": "",
     "evalue": "",
     "output_type": "error",
     "traceback": [
      "\u001b[1;31mUruchomienie komórek z elementem „AiRoll-0jqWoul_” wymaga pakietu ipykernel.\n",
      "\u001b[1;31mUruchom następujące polecenie, aby zainstalować element „ipykernel” w środowisku języka Python. \n",
      "\u001b[1;31mPolecenie: „/Users/szymon.rucinski/.local/share/virtualenvs/AiRoll-0jqWoul_/bin/python -m pip install ipykernel -U --force-reinstall”"
     ]
    }
   ],
   "source": [
    "subscription_key = key\n",
    "search_url = \"https://api.bing.microsoft.com/v7.0/images/search\"\n",
    "headers = {\"Ocp-Apim-Subscription-Key\" : subscription_key}"
   ]
  },
  {
   "cell_type": "code",
   "execution_count": null,
   "metadata": {},
   "outputs": [
    {
     "ename": "",
     "evalue": "",
     "output_type": "error",
     "traceback": [
      "\u001b[1;31mUruchomienie komórek z elementem „AiRoll-0jqWoul_” wymaga pakietu ipykernel.\n",
      "\u001b[1;31mUruchom następujące polecenie, aby zainstalować element „ipykernel” w środowisku języka Python. \n",
      "\u001b[1;31mPolecenie: „/Users/szymon.rucinski/.local/share/virtualenvs/AiRoll-0jqWoul_/bin/python -m pip install ipykernel -U --force-reinstall”"
     ]
    }
   ],
   "source": [
    "shot_types = {'extreme_wide_shot':['forest','desert','ocean','mountains', 'urban landscape', 'village landscape','extreme long shot Example movie'], \n",
    "'full_shot':['full length shot','Full Shot Film', 'Full Shot', 'Full%20Shot%20Camera%20Angle','Full Body Side Shot','Full Body Portrait'],\n",
    "'medium_shot':['medium shot', 'medium shot photography', 'medium shot portrait', 'medium shot film', 'Medium Mid Shot', 'Example of Medium Shot'],\n",
    "'close_up_shot':['closeup portrait', 'closeup movie', 'close up example','Close Shot Camera Angle','face closeUp shot']\n",
    "}"
   ]
  },
  {
   "cell_type": "code",
   "execution_count": null,
   "metadata": {
    "tags": []
   },
   "outputs": [
    {
     "ename": "",
     "evalue": "",
     "output_type": "error",
     "traceback": [
      "\u001b[1;31mUruchomienie komórek z elementem „AiRoll-0jqWoul_” wymaga pakietu ipykernel.\n",
      "\u001b[1;31mUruchom następujące polecenie, aby zainstalować element „ipykernel” w środowisku języka Python. \n",
      "\u001b[1;31mPolecenie: „/Users/szymon.rucinski/.local/share/virtualenvs/AiRoll-0jqWoul_/bin/python -m pip install ipykernel -U --force-reinstall”"
     ]
    }
   ],
   "source": [
    "# for term in shot_types:\n",
    "#     for k, v in shot_types.items():\n",
    "#         for el in v:\n",
    "#             params  = {\"q\": f\"{el}\", \"license\": \"public\", \"imageType\": \"photo\", \"count\":f\"{img_count}\"}\n",
    "#             response = requests.get(search_url, headers=headers, params=params)\n",
    "#             response.raise_for_status()\n",
    "#             search_results = response.json()\n",
    "#             img_urls = [img['contentUrl'] for img in search_results[\"value\"]]\n",
    "#             np.savetxt\n",
    "#             SHOT_SET = os.path.join(BASE_DIR, f\"{k}\")\n",
    "#             fileName = os.path.join(SHOT_SET, f\"{el}.txt\")\n",
    "#             if not os.path.exists(SHOT_SET):\n",
    "#                 os.makedirs(SHOT_SET)\n",
    "#             np.savetxt(fileName, np.array(img_urls), fmt=\"%s\")\n",
    "#             for i,url in enumerate(img_urls):\n",
    "#                 download_url(url, os.path.join(SHOT_SET,f\"{el}-{i}.jpg\"))"
   ]
  },
  {
   "cell_type": "code",
   "execution_count": null,
   "metadata": {},
   "outputs": [
    {
     "ename": "",
     "evalue": "",
     "output_type": "error",
     "traceback": [
      "\u001b[1;31mUruchomienie komórek z elementem „AiRoll-0jqWoul_” wymaga pakietu ipykernel.\n",
      "\u001b[1;31mUruchom następujące polecenie, aby zainstalować element „ipykernel” w środowisku języka Python. \n",
      "\u001b[1;31mPolecenie: „/Users/szymon.rucinski/.local/share/virtualenvs/AiRoll-0jqWoul_/bin/python -m pip install ipykernel -U --force-reinstall”"
     ]
    }
   ],
   "source": [
    "for term in shot_types:\n",
    "    for k, v in shot_types.items():\n",
    "        n_path = (Path('__file__').parent).joinpath(f'{k}')\n",
    "        failed = verify_images(n_path.ls())\n",
    "        failed.map(Path.unlink)"
   ]
  },
  {
   "cell_type": "code",
   "execution_count": null,
   "metadata": {},
   "outputs": [
    {
     "ename": "",
     "evalue": "",
     "output_type": "error",
     "traceback": [
      "\u001b[1;31mUruchomienie komórek z elementem „AiRoll-0jqWoul_” wymaga pakietu ipykernel.\n",
      "\u001b[1;31mUruchom następujące polecenie, aby zainstalować element „ipykernel” w środowisku języka Python. \n",
      "\u001b[1;31mPolecenie: „/Users/szymon.rucinski/.local/share/virtualenvs/AiRoll-0jqWoul_/bin/python -m pip install ipykernel -U --force-reinstall”"
     ]
    }
   ],
   "source": []
  }
 ],
 "metadata": {
  "kernelspec": {
   "display_name": "AiRoll-tKjZg6XZ",
   "language": "python",
   "name": "python3"
  },
  "language_info": {
   "codemirror_mode": {
    "name": "ipython",
    "version": 3
   },
   "file_extension": ".py",
   "mimetype": "text/x-python",
   "name": "python",
   "nbconvert_exporter": "python",
   "pygments_lexer": "ipython3",
   "version": "3.10.8"
  },
  "orig_nbformat": 2,
  "vscode": {
   "interpreter": {
    "hash": "6d8da1e68d5bec27d277d8e9d503ce326a53eb7cf1f55803bb0e88df1a660992"
   }
  }
 },
 "nbformat": 4,
 "nbformat_minor": 2
}
