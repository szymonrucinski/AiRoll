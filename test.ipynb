{
 "cells": [
  {
   "cell_type": "code",
   "execution_count": 32,
   "metadata": {},
   "outputs": [
    {
     "name": "stderr",
     "output_type": "stream",
     "text": [
      "Resolving data files: 100%|██████████| 925/925 [00:00<00:00, 462478.39it/s]\n",
      "Found cached dataset imagefolder (C:/Users/SRU/.cache/huggingface/datasets/imagefolder/default-3b65022f9eb4c38c/0.0.0/37fbb85cc714a338bea574ac6c7d0b5be5aff46c1862c1989b20e0771199e93f)\n",
      "Creating parquet from Arrow format: 100%|██████████| 1/1 [00:00<00:00,  3.01ba/s]\n",
      "Upload 1 LFS files: 100%|██████████| 1/1 [02:47<00:00, 167.29s/it]\n",
      "Pushing dataset shards to the dataset hub: 100%|██████████| 1/1 [02:48<00:00, 168.43s/it]\n"
     ]
    },
    {
     "ename": "FileNotFoundError",
     "evalue": "[Errno 2] No such file or directory: 'c:\\\\Users\\\\SRU\\\\.conda\\\\envs\\\\airoll\\\\lib\\\\site-packages\\\\huggingface_hub-0.14.1-py3.8.egg'",
     "output_type": "error",
     "traceback": [
      "\u001b[1;31m---------------------------------------------------------------------------\u001b[0m",
      "\u001b[1;31mFileNotFoundError\u001b[0m                         Traceback (most recent call last)",
      "Cell \u001b[1;32mIn[32], line 4\u001b[0m\n\u001b[0;32m      1\u001b[0m \u001b[39mfrom\u001b[39;00m \u001b[39mdatasets\u001b[39;00m \u001b[39mimport\u001b[39;00m load_dataset\n\u001b[0;32m      3\u001b[0m dataset \u001b[39m=\u001b[39m load_dataset(\u001b[39m\"\u001b[39m\u001b[39mimagefolder\u001b[39m\u001b[39m\"\u001b[39m, data_dir\u001b[39m=\u001b[39m\u001b[39m\"\u001b[39m\u001b[39mdata/train/\u001b[39m\u001b[39m\"\u001b[39m, split\u001b[39m=\u001b[39m\u001b[39m\"\u001b[39m\u001b[39mtrain\u001b[39m\u001b[39m\"\u001b[39m)\n\u001b[1;32m----> 4\u001b[0m dataset\u001b[39m.\u001b[39;49mpush_to_hub(\u001b[39m\"\u001b[39;49m\u001b[39mszymonindy/type-of-film-shots\u001b[39;49m\u001b[39m\"\u001b[39;49m)\n",
      "File \u001b[1;32mc:\\Users\\SRU\\.conda\\envs\\airoll\\lib\\site-packages\\datasets\\arrow_dataset.py:5405\u001b[0m, in \u001b[0;36mDataset.push_to_hub\u001b[1;34m(self, repo_id, split, private, token, branch, max_shard_size, num_shards, embed_external_files)\u001b[0m\n\u001b[0;32m   5402\u001b[0m download_config\u001b[39m.\u001b[39mdownload_desc \u001b[39m=\u001b[39m \u001b[39m\"\u001b[39m\u001b[39mDownloading metadata\u001b[39m\u001b[39m\"\u001b[39m\n\u001b[0;32m   5403\u001b[0m download_config\u001b[39m.\u001b[39muse_auth_token \u001b[39m=\u001b[39m token\n\u001b[0;32m   5404\u001b[0m dataset_readme_path \u001b[39m=\u001b[39m cached_path(\n\u001b[1;32m-> 5405\u001b[0m     hf_hub_url(repo_id, \u001b[39m\"\u001b[39;49m\u001b[39mREADME.md\u001b[39;49m\u001b[39m\"\u001b[39;49m),\n\u001b[0;32m   5406\u001b[0m     download_config\u001b[39m=\u001b[39mdownload_config,\n\u001b[0;32m   5407\u001b[0m )\n\u001b[0;32m   5408\u001b[0m dataset_metadata \u001b[39m=\u001b[39m DatasetMetadata\u001b[39m.\u001b[39mfrom_readme(Path(dataset_readme_path))\n\u001b[0;32m   5409\u001b[0m dataset_infos: DatasetInfosDict \u001b[39m=\u001b[39m DatasetInfosDict\u001b[39m.\u001b[39mfrom_metadata(dataset_metadata)\n",
      "File \u001b[1;32mc:\\Users\\SRU\\.conda\\envs\\airoll\\lib\\site-packages\\datasets\\utils\\hub.py:12\u001b[0m, in \u001b[0;36mhf_hub_url\u001b[1;34m(repo_id, path, revision)\u001b[0m\n\u001b[0;32m      9\u001b[0m \u001b[39mif\u001b[39;00m version\u001b[39m.\u001b[39mparse(hfh\u001b[39m.\u001b[39m__version__)\u001b[39m.\u001b[39mrelease \u001b[39m<\u001b[39m version\u001b[39m.\u001b[39mparse(\u001b[39m\"\u001b[39m\u001b[39m0.11.0\u001b[39m\u001b[39m\"\u001b[39m)\u001b[39m.\u001b[39mrelease:\n\u001b[0;32m     10\u001b[0m     \u001b[39m# old versions of hfh don't url-encode the file path\u001b[39;00m\n\u001b[0;32m     11\u001b[0m     path \u001b[39m=\u001b[39m quote(path)\n\u001b[1;32m---> 12\u001b[0m \u001b[39mreturn\u001b[39;00m hfh\u001b[39m.\u001b[39;49mhf_hub_url(repo_id, path, repo_type\u001b[39m=\u001b[39m\u001b[39m\"\u001b[39m\u001b[39mdataset\u001b[39m\u001b[39m\"\u001b[39m, revision\u001b[39m=\u001b[39mrevision)\n",
      "File \u001b[1;32mc:\\Users\\SRU\\.conda\\envs\\airoll\\lib\\site-packages\\huggingface_hub-0.14.1-py3.8.egg\\huggingface_hub\\__init__.py:305\u001b[0m, in \u001b[0;36m__getattr__\u001b[1;34m(name)\u001b[0m\n",
      "File \u001b[1;32mc:\\Users\\SRU\\.conda\\envs\\airoll\\lib\\importlib\\__init__.py:127\u001b[0m, in \u001b[0;36mimport_module\u001b[1;34m(name, package)\u001b[0m\n\u001b[0;32m    125\u001b[0m             \u001b[39mbreak\u001b[39;00m\n\u001b[0;32m    126\u001b[0m         level \u001b[39m+\u001b[39m\u001b[39m=\u001b[39m \u001b[39m1\u001b[39m\n\u001b[1;32m--> 127\u001b[0m \u001b[39mreturn\u001b[39;00m _bootstrap\u001b[39m.\u001b[39;49m_gcd_import(name[level:], package, level)\n",
      "File \u001b[1;32m<frozen importlib._bootstrap>:1014\u001b[0m, in \u001b[0;36m_gcd_import\u001b[1;34m(name, package, level)\u001b[0m\n",
      "File \u001b[1;32m<frozen importlib._bootstrap>:991\u001b[0m, in \u001b[0;36m_find_and_load\u001b[1;34m(name, import_)\u001b[0m\n",
      "File \u001b[1;32m<frozen importlib._bootstrap>:971\u001b[0m, in \u001b[0;36m_find_and_load_unlocked\u001b[1;34m(name, import_)\u001b[0m\n",
      "File \u001b[1;32m<frozen importlib._bootstrap>:914\u001b[0m, in \u001b[0;36m_find_spec\u001b[1;34m(name, path, target)\u001b[0m\n",
      "File \u001b[1;32m<frozen importlib._bootstrap_external>:1407\u001b[0m, in \u001b[0;36mfind_spec\u001b[1;34m(cls, fullname, path, target)\u001b[0m\n",
      "File \u001b[1;32m<frozen importlib._bootstrap_external>:1381\u001b[0m, in \u001b[0;36m_get_spec\u001b[1;34m(cls, fullname, path, target)\u001b[0m\n",
      "File \u001b[1;32m<frozen importlib._bootstrap_external>:1362\u001b[0m, in \u001b[0;36m_legacy_get_spec\u001b[1;34m(cls, fullname, finder)\u001b[0m\n",
      "File \u001b[1;32m<frozen importlib._bootstrap>:414\u001b[0m, in \u001b[0;36mspec_from_loader\u001b[1;34m(name, loader, origin, is_package)\u001b[0m\n",
      "File \u001b[1;32m<frozen importlib._bootstrap_external>:709\u001b[0m, in \u001b[0;36mspec_from_file_location\u001b[1;34m(name, location, loader, submodule_search_locations)\u001b[0m\n",
      "File \u001b[1;32m<frozen zipimport>:191\u001b[0m, in \u001b[0;36mget_filename\u001b[1;34m(self, fullname)\u001b[0m\n",
      "File \u001b[1;32m<frozen zipimport>:709\u001b[0m, in \u001b[0;36m_get_module_code\u001b[1;34m(self, fullname)\u001b[0m\n",
      "File \u001b[1;32m<frozen zipimport>:536\u001b[0m, in \u001b[0;36m_get_data\u001b[1;34m(archive, toc_entry)\u001b[0m\n",
      "\u001b[1;31mFileNotFoundError\u001b[0m: [Errno 2] No such file or directory: 'c:\\\\Users\\\\SRU\\\\.conda\\\\envs\\\\airoll\\\\lib\\\\site-packages\\\\huggingface_hub-0.14.1-py3.8.egg'"
     ]
    }
   ],
   "source": [
    "from datasets import load_dataset\n",
    "\n",
    "dataset = load_dataset(\"imagefolder\", data_dir=\"data/train/\", split=\"train\")\n",
    "dataset.push_to_hub(\"szymonindy/types-of-film-shots\")"
   ]
  }
 ],
 "metadata": {
  "kernelspec": {
   "display_name": "airoll",
   "language": "python",
   "name": "python3"
  },
  "language_info": {
   "codemirror_mode": {
    "name": "ipython",
    "version": 3
   },
   "file_extension": ".py",
   "mimetype": "text/x-python",
   "name": "python",
   "nbconvert_exporter": "python",
   "pygments_lexer": "ipython3",
   "version": "3.8.16"
  },
  "orig_nbformat": 4
 },
 "nbformat": 4,
 "nbformat_minor": 2
}
